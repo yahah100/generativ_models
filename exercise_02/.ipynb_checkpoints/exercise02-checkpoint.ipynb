{
 "cells": [
  {
   "cell_type": "code",
   "execution_count": 0,
   "metadata": {
    "colab": {},
    "colab_type": "code",
    "id": "A7f2UGEYiWjH"
   },
   "outputs": [],
   "source": [
    "import numpy as np\n",
    "import torch\n",
    "import torchvision\n",
    "import pickle\n",
    "\n",
    "\n",
    "import matplotlib.pyplot  as plt\n",
    "%matplotlib inline"
   ]
  },
  {
   "cell_type": "code",
   "execution_count": 2,
   "metadata": {
    "colab": {
     "base_uri": "https://localhost:8080/",
     "height": 35
    },
    "colab_type": "code",
    "id": "yNQLvG7YihTk",
    "outputId": "2201b61c-fdc0-40a4-9a9b-2cb75f77e0b0"
   },
   "outputs": [
    {
     "name": "stdout",
     "output_type": "stream",
     "text": [
      "Mounted at /content/drive\n"
     ]
    }
   ],
   "source": [
    "from google.colab import drive\n",
    "drive.mount('/content/drive')"
   ]
  },
  {
   "cell_type": "code",
   "execution_count": 0,
   "metadata": {
    "colab": {},
    "colab_type": "code",
    "id": "BVc-FD4wiiPm"
   },
   "outputs": [],
   "source": [
    "with open('drive/My Drive/Colab Notebooks/colored-mnist.pkl', 'rb') as f:\n",
    "    data = pickle.load(f)"
   ]
  },
  {
   "cell_type": "code",
   "execution_count": 0,
   "metadata": {
    "colab": {},
    "colab_type": "code",
    "id": "sbpAsNW0iiS0"
   },
   "outputs": [],
   "source": [
    "train = data['train']\n",
    "test = data['test']"
   ]
  },
  {
   "cell_type": "code",
   "execution_count": 5,
   "metadata": {
    "colab": {
     "base_uri": "https://localhost:8080/",
     "height": 70
    },
    "colab_type": "code",
    "id": "7yACKEVPiiWU",
    "outputId": "67c514d9-c0a3-47ba-f4e9-9b2a89c556b3"
   },
   "outputs": [
    {
     "name": "stdout",
     "output_type": "stream",
     "text": [
      "Count train samples:  60000\n",
      "Count test samples:  10000\n",
      "Shape of image (H, W, C):  (28, 28, 3)\n"
     ]
    }
   ],
   "source": [
    "print(\"Count train samples: \", train.shape[0])\n",
    "print(\"Count test samples: \", test.shape[0])\n",
    "print(\"Shape of image (H, W, C): \", train[0].shape)"
   ]
  },
  {
   "cell_type": "code",
   "execution_count": 33,
   "metadata": {
    "colab": {
     "base_uri": "https://localhost:8080/",
     "height": 242
    },
    "colab_type": "code",
    "id": "mkIyxgunAOkw",
    "outputId": "80227b8e-68d2-464c-c653-ca681bbfa860"
   },
   "outputs": [
    {
     "name": "stderr",
     "output_type": "stream",
     "text": [
      "Clipping input data to the valid range for imshow with RGB data ([0..1] for floats or [0..255] for integers).\n",
      "Clipping input data to the valid range for imshow with RGB data ([0..1] for floats or [0..255] for integers).\n",
      "Clipping input data to the valid range for imshow with RGB data ([0..1] for floats or [0..255] for integers).\n",
      "Clipping input data to the valid range for imshow with RGB data ([0..1] for floats or [0..255] for integers).\n"
     ]
    },
    {
     "data": {
      "image/png": "[encoded data removed]",
      "text/plain": [
       "<Figure size 720x720 with 4 Axes>"
      ]
     },
     "metadata": {
      "tags": []
     },
     "output_type": "display_data"
    }
   ],
   "source": [
    "fig = plt.figure(figsize=(10, 10))\n",
    "def show_image(i, image): \n",
    "  print_image =  image * (256 / 3)\n",
    "  fig.add_subplot(1, 4, i+1)\n",
    "  plt.imshow(print_image.astype(int))\n",
    "  \n",
    "\n",
    "for i in range(0, 4):\n",
    "  show_image(i, train[i])\n",
    "plt.show()"
   ]
  },
  {
   "cell_type": "code",
   "execution_count": 0,
   "metadata": {
    "colab": {},
    "colab_type": "code",
    "id": "ZblPjcNe-9iI"
   },
   "outputs": [],
   "source": [
    "class MyDataset(torch.utils.data.Dataset):\n",
    "  def __init__(self, target, transform=None):\n",
    "      self.target = torch.from_numpy(target).view(-1, 3, 28, 28)\n",
    "      self.transform = transform\n",
    "      \n",
    "  def __getitem__(self, index):\n",
    "      y = self.target[index]\n",
    "      \n",
    "      if self.transform:\n",
    "          y = self.transform(y)\n",
    "          \n",
    "      return y\n",
    "  \n",
    "  def __len__(self):\n",
    "      return len(self.target)"
   ]
  },
  {
   "cell_type": "code",
   "execution_count": 0,
   "metadata": {
    "colab": {},
    "colab_type": "code",
    "id": "udbU4oDE_DxO"
   },
   "outputs": [],
   "source": [
    "BATCHSIZE = 50"
   ]
  },
  {
   "cell_type": "code",
   "execution_count": 0,
   "metadata": {
    "colab": {},
    "colab_type": "code",
    "id": "F_x1ZITM_CN8"
   },
   "outputs": [],
   "source": [
    "train_ds = MyDataset(train)\n",
    "test_ds = MyDataset(test)\n",
    "\n",
    "trainloader = torch.utils.data.DataLoader(train_ds, batch_size=BATCHSIZE)\n",
    "testloader = torch.utils.data.DataLoader(test_ds, batch_size=BATCHSIZE)"
   ]
  },
  {
   "cell_type": "code",
   "execution_count": 10,
   "metadata": {
    "colab": {
     "base_uri": "https://localhost:8080/",
     "height": 35
    },
    "colab_type": "code",
    "id": "kKwBHSvWTgTJ",
    "outputId": "f735a1d6-431b-457e-97c0-ac59470a6141"
   },
   "outputs": [
    {
     "name": "stdout",
     "output_type": "stream",
     "text": [
      "Tensor shape:  torch.Size([50, 3, 28, 28])\n"
     ]
    }
   ],
   "source": [
    "dataiter = iter(trainloader)\n",
    "labels = dataiter.next()\n",
    "print(\"Tensor shape: \", labels.shape)"
   ]
  },
  {
   "cell_type": "markdown",
   "metadata": {
    "colab_type": "text",
    "id": "qr3-rgT0Tgv4"
   },
   "source": [
    "## Masking\n",
    "\n",
    "- ConvLayer 7x7 needs Mask A\n",
    "\n",
    "- The Convlayers in the residual Blocks need the Mask B \n",
    "\n",
    "\n",
    "### Example for 3x3 Filter\n",
    "- Mask A:\n",
    "$\\left( \\begin{array}{rrr}\n",
    "1 & 1 & 1 \\\\\n",
    "1 & 0 & 0 \\\\\n",
    "0 & 0 & 0 \\\\\n",
    "\\end{array}\\right) $\n",
    "\n",
    "- Mask B:\n",
    "$\\left( \\begin{array}{rrr}\n",
    "1 & 1 & 1 \\\\\n",
    "1 & 1 & 0 \\\\\n",
    "0 & 0 & 0 \\\\\n",
    "\\end{array}\\right) $"
   ]
  },
  {
   "cell_type": "code",
   "execution_count": 0,
   "metadata": {
    "colab": {},
    "colab_type": "code",
    "id": "ULnS0vdKlLSl"
   },
   "outputs": [],
   "source": [
    "# Quelle: https://www.codeproject.com/Articles/5061271/PixelCNN-in-Autoregressive-Models\n",
    "class MaskedConv2d(torch.nn.Conv2d):\n",
    "  def __init__(self, mask_type, *args, **kwargs):\n",
    "    super().__init__(*args, **kwargs)\n",
    "    assert mask_type in ('A', 'B')\n",
    "    self.register_buffer('mask', self.weight.data.clone())\n",
    "    _, _, fH, fW = self.weight.size()\n",
    "    \n",
    "    self.mask.fill_(1)\n",
    "    if (mask_type == 'B'): \n",
    "      self.mask[:, :, fH // 2, fW // 2 + 1:] = 0\n",
    "    else:\n",
    "      self.mask[:, :, fH // 2, fW // 2:] = 0\n",
    "    \n",
    "    self.mask[:, :, fH // 2 + 1:] = 0\n",
    "\n",
    "  def forward(self, x):\n",
    "    self.weight.data *= self.mask\n",
    "    return super(MaskedConv2d, self).forward(x)"
   ]
  },
  {
   "cell_type": "code",
   "execution_count": 0,
   "metadata": {
    "colab": {},
    "colab_type": "code",
    "id": "wPLZeWQblLV8"
   },
   "outputs": [],
   "source": [
    "class ResBlock(torch.nn.Module):\n",
    "\n",
    "  def __init__(self, channels=128):\n",
    "    super(ResBlock, self).__init__()\n",
    "    self.channels=channels\n",
    "\n",
    "    self.network = torch.nn.Sequential(\n",
    "        torch.nn.ReLU(),\n",
    "        torch.nn.Conv2d(self.channels*2,self.channels, 1, stride=1, padding=0), \n",
    "        torch.nn.BatchNorm2d(self.channels), \n",
    "        torch.nn.ReLU(),\n",
    "        MaskedConv2d('B',self.channels, self.channels, 3, stride=1, padding=1),\n",
    "        torch.nn.BatchNorm2d(self.channels), \n",
    "        torch.nn.ReLU(),\n",
    "        torch.nn.Conv2d(self.channels,self.channels*2, 1, stride=1, padding=0),\n",
    "        torch.nn.BatchNorm2d(2*self.channels)\n",
    "      )\n",
    "    \n",
    "  def forward(self, x):\n",
    "    out= self.network(x)\n",
    "    return x + out\n"
   ]
  },
  {
   "cell_type": "code",
   "execution_count": 0,
   "metadata": {
    "colab": {},
    "colab_type": "code",
    "id": "lWSPjoPklLY6"
   },
   "outputs": [],
   "source": [
    "class PixelCNN(torch.nn.Module):\n",
    "    \n",
    "  def __init__(self, channels=128, res_blocks=12): \n",
    "    super(PixelCNN,self).__init__()\n",
    "    layers = []\n",
    "    layers.append(MaskedConv2d(\"A\", 3, channels*2, 7, padding=3))\n",
    "\n",
    "    for i in range(res_blocks):\n",
    "      layers.append(ResBlock(channels))\n",
    "\n",
    "    layers.append(torch.nn.ReLU())\n",
    "    layers.append(torch.nn.Conv2d(channels*2, 1024, 1, 1, 0))\n",
    "    layers.append(torch.nn.ReLU())\n",
    "    layers.append(torch.nn.Conv2d(1024, 3*4, 1, 1, 0))\n",
    "    # layers.append(torch.nn.Softmax())\n",
    "\n",
    "    self.network = torch.nn.Sequential(*layers)\n",
    "   \n",
    "  def forward(self, x):\n",
    "    out = self.network(x)\n",
    "    return out.view(-1,4,3,28,28)\n"
   ]
  },
  {
   "cell_type": "code",
   "execution_count": 0,
   "metadata": {
    "colab": {},
    "colab_type": "code",
    "id": "okFtCy5GlLbq"
   },
   "outputs": [],
   "source": [
    "device = torch.device(\"cuda:0\" if torch.cuda.is_available() else \"cpu\")\n",
    "\n",
    "pixelCNN = PixelCNN(128).to(device)\n",
    "\n",
    "if torch.cuda.device_count() > 1:\n",
    "  print(\"Let's use\", torch.cuda.device_count(), \"GPUs!\")\n",
    "  pixelCNN = torch.nn.DataParallel(pixelCNN)"
   ]
  },
  {
   "cell_type": "code",
   "execution_count": 0,
   "metadata": {
    "colab": {},
    "colab_type": "code",
    "id": "my1aMqqcQ1XX"
   },
   "outputs": [],
   "source": [
    "# pixelCNN"
   ]
  },
  {
   "cell_type": "code",
   "execution_count": 16,
   "metadata": {
    "colab": {
     "base_uri": "https://localhost:8080/",
     "height": 35
    },
    "colab_type": "code",
    "id": "zCd10d9owmqR",
    "outputId": "c317f86b-06e7-437a-a122-2c7a74b64190"
   },
   "outputs": [
    {
     "data": {
      "text/plain": [
       "1"
      ]
     },
     "execution_count": 16,
     "metadata": {
      "tags": []
     },
     "output_type": "execute_result"
    }
   ],
   "source": [
    "torch.cuda.device_count()"
   ]
  },
  {
   "cell_type": "code",
   "execution_count": 0,
   "metadata": {
    "colab": {},
    "colab_type": "code",
    "id": "E_F2HkkAiiZ6"
   },
   "outputs": [],
   "source": [
    "optimizer = torch.optim.Adam(pixelCNN.parameters(),lr=3e-4, weight_decay=0.0001)\n",
    "criterion = torch.nn.CrossEntropyLoss()"
   ]
  },
  {
   "cell_type": "code",
   "execution_count": 18,
   "metadata": {
    "colab": {
     "base_uri": "https://localhost:8080/",
     "height": 1000
    },
    "colab_type": "code",
    "id": "UoREGLUX2YtC",
    "outputId": "8329243c-d03c-4395-fa1f-f301c73ed650"
   },
   "outputs": [
    {
     "name": "stdout",
     "output_type": "stream",
     "text": [
      "epoch: 0 i: 9 loss: 0.6097365021705627\n",
      "epoch: 0 i: 19 loss: 0.4618673026561737\n",
      "epoch: 0 i: 29 loss: 0.3777463436126709\n",
      "epoch: 0 i: 39 loss: 0.3303174376487732\n",
      "epoch: 0 i: 49 loss: 0.30400532484054565\n",
      "epoch: 0 i: 59 loss: 0.25209298729896545\n",
      "epoch: 0 i: 69 loss: 0.2779010236263275\n",
      "epoch: 0 i: 79 loss: 0.24561356008052826\n",
      "epoch: 0 i: 89 loss: 0.2339337319135666\n",
      "epoch: 0 i: 99 loss: 0.2315782904624939\n",
      "epoch: 0 i: 109 loss: 0.23763981461524963\n",
      "epoch: 0 i: 119 loss: 0.22943764925003052\n",
      "epoch: 0 i: 129 loss: 0.21802741289138794\n",
      "epoch: 0 i: 139 loss: 0.20978400111198425\n",
      "epoch: 0 i: 149 loss: 0.21776506304740906\n",
      "epoch: 0 i: 159 loss: 0.2157430797815323\n",
      "epoch: 0 i: 169 loss: 0.20579028129577637\n",
      "epoch: 0 i: 179 loss: 0.20209166407585144\n",
      "epoch: 0 i: 189 loss: 0.21172940731048584\n",
      "epoch: 0 i: 199 loss: 0.22160932421684265\n",
      "epoch: 0 i: 209 loss: 0.21866554021835327\n",
      "epoch: 0 i: 219 loss: 0.19227167963981628\n",
      "epoch: 0 i: 229 loss: 0.2116352766752243\n",
      "epoch: 0 i: 239 loss: 0.2119831144809723\n",
      "epoch: 0 i: 249 loss: 0.19346186518669128\n",
      "epoch: 0 i: 259 loss: 0.2171488255262375\n",
      "epoch: 0 i: 269 loss: 0.20671328902244568\n",
      "epoch: 0 i: 279 loss: 0.21315331757068634\n",
      "epoch: 0 i: 289 loss: 0.19284909963607788\n",
      "epoch: 0 i: 299 loss: 0.18531547486782074\n",
      "epoch: 0 i: 309 loss: 0.18905502557754517\n",
      "epoch: 0 i: 319 loss: 0.19440174102783203\n",
      "epoch: 0 i: 329 loss: 0.20583580434322357\n",
      "epoch: 0 i: 339 loss: 0.1877942681312561\n",
      "epoch: 0 i: 349 loss: 0.1994730830192566\n",
      "epoch: 0 i: 359 loss: 0.19483469426631927\n",
      "epoch: 0 i: 369 loss: 0.17824241518974304\n",
      "epoch: 0 i: 379 loss: 0.18176817893981934\n",
      "epoch: 0 i: 389 loss: 0.18687596917152405\n",
      "epoch: 0 i: 399 loss: 0.18517224490642548\n",
      "epoch: 0 i: 409 loss: 0.18308402597904205\n",
      "epoch: 0 i: 419 loss: 0.18239466845989227\n",
      "epoch: 0 i: 429 loss: 0.1807927042245865\n",
      "epoch: 0 i: 439 loss: 0.18026669323444366\n",
      "epoch: 0 i: 449 loss: 0.1704135537147522\n",
      "epoch: 0 i: 459 loss: 0.17216065526008606\n",
      "epoch: 0 i: 469 loss: 0.19616879522800446\n",
      "epoch: 0 i: 479 loss: 0.1683175265789032\n",
      "epoch: 0 i: 489 loss: 0.18215037882328033\n",
      "epoch: 0 i: 499 loss: 0.17636851966381073\n",
      "epoch: 0 i: 509 loss: 0.17737922072410583\n",
      "epoch: 0 i: 519 loss: 0.17906954884529114\n",
      "epoch: 0 i: 529 loss: 0.17363640666007996\n",
      "epoch: 0 i: 539 loss: 0.16557839512825012\n",
      "epoch: 0 i: 549 loss: 0.1750842183828354\n",
      "epoch: 0 i: 559 loss: 0.16666996479034424\n",
      "epoch: 0 i: 569 loss: 0.16199716925621033\n",
      "epoch: 0 i: 579 loss: 0.17973417043685913\n",
      "epoch: 0 i: 589 loss: 0.16528300940990448\n",
      "epoch: 0 i: 599 loss: 0.1561177521944046\n",
      "epoch: 0 i: 609 loss: 0.16181299090385437\n",
      "epoch: 0 i: 619 loss: 0.16054244339466095\n",
      "epoch: 0 i: 629 loss: 0.18196722865104675\n",
      "epoch: 0 i: 639 loss: 0.15582375228405\n",
      "epoch: 0 i: 649 loss: 0.1674492508172989\n",
      "epoch: 0 i: 659 loss: 0.1635119765996933\n",
      "epoch: 0 i: 669 loss: 0.15455234050750732\n",
      "epoch: 0 i: 679 loss: 0.15285342931747437\n",
      "epoch: 0 i: 689 loss: 0.15856552124023438\n",
      "epoch: 0 i: 699 loss: 0.14905394613742828\n",
      "epoch: 0 i: 709 loss: 0.17319227755069733\n",
      "epoch: 0 i: 719 loss: 0.15327323973178864\n",
      "epoch: 0 i: 729 loss: 0.15550492703914642\n",
      "epoch: 0 i: 739 loss: 0.1469458043575287\n",
      "epoch: 0 i: 749 loss: 0.14424175024032593\n",
      "epoch: 0 i: 759 loss: 0.1476081907749176\n",
      "epoch: 0 i: 769 loss: 0.138732448220253\n",
      "epoch: 0 i: 779 loss: 0.14177170395851135\n",
      "epoch: 0 i: 789 loss: 0.14386679232120514\n",
      "epoch: 0 i: 799 loss: 0.1402830183506012\n",
      "epoch: 0 i: 809 loss: 0.1468937247991562\n",
      "epoch: 0 i: 819 loss: 0.1355200856924057\n",
      "epoch: 0 i: 829 loss: 0.13688789308071136\n",
      "epoch: 0 i: 839 loss: 0.13183027505874634\n",
      "epoch: 0 i: 849 loss: 0.13492195308208466\n",
      "epoch: 0 i: 859 loss: 0.13247327506542206\n",
      "epoch: 0 i: 869 loss: 0.12910406291484833\n",
      "epoch: 0 i: 879 loss: 0.12783890962600708\n",
      "epoch: 0 i: 889 loss: 0.1265580803155899\n",
      "epoch: 0 i: 899 loss: 0.11833535134792328\n",
      "epoch: 0 i: 909 loss: 0.1301230788230896\n",
      "epoch: 0 i: 919 loss: 0.1295125037431717\n",
      "epoch: 0 i: 929 loss: 0.12053527683019638\n",
      "epoch: 0 i: 939 loss: 0.12393268197774887\n",
      "epoch: 0 i: 949 loss: 0.1270487755537033\n",
      "epoch: 0 i: 959 loss: 0.11404450982809067\n",
      "epoch: 0 i: 969 loss: 0.11074838042259216\n",
      "epoch: 0 i: 979 loss: 0.11238747835159302\n",
      "epoch: 0 i: 989 loss: 0.11376852542161942\n",
      "epoch: 0 i: 999 loss: 0.11554333567619324\n",
      "epoch: 0 i: 1009 loss: 0.11410456150770187\n",
      "epoch: 0 i: 1019 loss: 0.11953908950090408\n",
      "epoch: 0 i: 1029 loss: 0.11532971262931824\n",
      "epoch: 0 i: 1039 loss: 0.11397005617618561\n",
      "epoch: 0 i: 1049 loss: 0.09886400401592255\n",
      "epoch: 0 i: 1059 loss: 0.1040310338139534\n",
      "epoch: 0 i: 1069 loss: 0.10019838809967041\n",
      "epoch: 0 i: 1079 loss: 0.10868687182664871\n",
      "epoch: 0 i: 1089 loss: 0.10171995311975479\n",
      "epoch: 0 i: 1099 loss: 0.10231985151767731\n",
      "epoch: 0 i: 1109 loss: 0.09464893490076065\n",
      "epoch: 0 i: 1119 loss: 0.09565775096416473\n",
      "epoch: 0 i: 1129 loss: 0.10273276269435883\n",
      "epoch: 0 i: 1139 loss: 0.10434959828853607\n",
      "epoch: 0 i: 1149 loss: 0.10304923355579376\n",
      "epoch: 0 i: 1159 loss: 0.09593590348958969\n",
      "epoch: 0 i: 1169 loss: 0.10046335309743881\n",
      "epoch: 0 i: 1179 loss: 0.09162526577711105\n",
      "epoch: 0 i: 1189 loss: 0.10420732945203781\n",
      "epoch: 0 i: 1199 loss: 0.10136687010526657\n",
      "epoch: 1 i: 9 loss: 0.0976666584610939\n",
      "epoch: 1 i: 19 loss: 0.09026964008808136\n",
      "epoch: 1 i: 29 loss: 0.09621525555849075\n",
      "epoch: 1 i: 39 loss: 0.09022695571184158\n",
      "epoch: 1 i: 49 loss: 0.09001447260379791\n",
      "epoch: 1 i: 59 loss: 0.08335649222135544\n",
      "epoch: 1 i: 69 loss: 0.08296837657690048\n",
      "epoch: 1 i: 79 loss: 0.0853513702750206\n",
      "epoch: 1 i: 89 loss: 0.08466984331607819\n",
      "epoch: 1 i: 99 loss: 0.08350135385990143\n",
      "epoch: 1 i: 109 loss: 0.08570174127817154\n",
      "epoch: 1 i: 119 loss: 0.08458948880434036\n",
      "epoch: 1 i: 129 loss: 0.08369971066713333\n",
      "epoch: 1 i: 139 loss: 0.08054205030202866\n",
      "epoch: 1 i: 149 loss: 0.08388549089431763\n",
      "epoch: 1 i: 159 loss: 0.08203627169132233\n",
      "epoch: 1 i: 169 loss: 0.07845935970544815\n",
      "epoch: 1 i: 179 loss: 0.07793307304382324\n",
      "epoch: 1 i: 189 loss: 0.08628703653812408\n",
      "epoch: 1 i: 199 loss: 0.08654702454805374\n",
      "epoch: 1 i: 209 loss: 0.08727751672267914\n",
      "epoch: 1 i: 219 loss: 0.079000324010849\n",
      "epoch: 1 i: 229 loss: 0.08147507160902023\n",
      "epoch: 1 i: 239 loss: 0.07970596104860306\n",
      "epoch: 1 i: 249 loss: 0.07961732149124146\n",
      "epoch: 1 i: 259 loss: 0.0853867307305336\n",
      "epoch: 1 i: 269 loss: 0.08310079574584961\n",
      "epoch: 1 i: 279 loss: 0.08763299882411957\n",
      "epoch: 1 i: 289 loss: 0.08176225423812866\n",
      "epoch: 1 i: 299 loss: 0.07324942201375961\n",
      "epoch: 1 i: 309 loss: 0.07574951648712158\n",
      "epoch: 1 i: 319 loss: 0.07496625930070877\n",
      "epoch: 1 i: 329 loss: 0.07973113656044006\n",
      "epoch: 1 i: 339 loss: 0.07444445043802261\n",
      "epoch: 1 i: 349 loss: 0.08137944340705872\n",
      "epoch: 1 i: 359 loss: 0.0785309225320816\n",
      "epoch: 1 i: 369 loss: 0.0741107240319252\n",
      "epoch: 1 i: 379 loss: 0.07408186793327332\n",
      "epoch: 1 i: 389 loss: 0.07713185995817184\n",
      "epoch: 1 i: 399 loss: 0.08140183985233307\n",
      "epoch: 1 i: 409 loss: 0.07403557747602463\n",
      "epoch: 1 i: 419 loss: 0.07583164423704147\n",
      "epoch: 1 i: 429 loss: 0.07576730847358704\n",
      "epoch: 1 i: 439 loss: 0.07560547441244125\n",
      "epoch: 1 i: 449 loss: 0.07300178706645966\n",
      "epoch: 1 i: 459 loss: 0.07693266123533249\n",
      "epoch: 1 i: 469 loss: 0.07381214946508408\n",
      "epoch: 1 i: 479 loss: 0.0719108134508133\n",
      "epoch: 1 i: 489 loss: 0.08116210252046585\n",
      "epoch: 1 i: 499 loss: 0.07362841069698334\n",
      "epoch: 1 i: 509 loss: 0.07271280884742737\n",
      "epoch: 1 i: 519 loss: 0.07826274633407593\n",
      "epoch: 1 i: 529 loss: 0.07438762485980988\n",
      "epoch: 1 i: 539 loss: 0.07071182876825333\n",
      "epoch: 1 i: 549 loss: 0.07387842983007431\n",
      "epoch: 1 i: 559 loss: 0.07241188734769821\n",
      "epoch: 1 i: 569 loss: 0.07426784932613373\n",
      "epoch: 1 i: 579 loss: 0.07689610868692398\n",
      "epoch: 1 i: 589 loss: 0.07098834961652756\n",
      "epoch: 1 i: 599 loss: 0.07101652026176453\n",
      "epoch: 1 i: 609 loss: 0.07315102219581604\n",
      "epoch: 1 i: 619 loss: 0.07268330454826355\n",
      "epoch: 1 i: 629 loss: 0.0758533775806427\n",
      "epoch: 1 i: 639 loss: 0.07275723665952682\n",
      "epoch: 1 i: 649 loss: 0.07064781337976456\n",
      "epoch: 1 i: 659 loss: 0.0744745209813118\n",
      "epoch: 1 i: 669 loss: 0.07165681570768356\n",
      "epoch: 1 i: 679 loss: 0.07042817771434784\n",
      "epoch: 1 i: 689 loss: 0.07239682227373123\n",
      "epoch: 1 i: 699 loss: 0.06740953773260117\n",
      "epoch: 1 i: 709 loss: 0.07559000700712204\n",
      "epoch: 1 i: 719 loss: 0.07188904285430908\n",
      "epoch: 1 i: 729 loss: 0.07480384409427643\n",
      "epoch: 1 i: 739 loss: 0.07117941230535507\n",
      "epoch: 1 i: 749 loss: 0.06862539798021317\n",
      "epoch: 1 i: 759 loss: 0.06956276297569275\n",
      "epoch: 1 i: 769 loss: 0.06833574175834656\n",
      "epoch: 1 i: 779 loss: 0.07045706361532211\n",
      "epoch: 1 i: 789 loss: 0.06829337030649185\n",
      "epoch: 1 i: 799 loss: 0.06775028258562088\n",
      "epoch: 1 i: 809 loss: 0.07149362564086914\n",
      "epoch: 1 i: 819 loss: 0.06755765527486801\n",
      "epoch: 1 i: 829 loss: 0.0676252692937851\n",
      "epoch: 1 i: 839 loss: 0.0686483085155487\n",
      "epoch: 1 i: 849 loss: 0.07006209343671799\n",
      "epoch: 1 i: 859 loss: 0.06952840089797974\n",
      "epoch: 1 i: 869 loss: 0.06658164411783218\n",
      "epoch: 1 i: 879 loss: 0.06621407717466354\n",
      "epoch: 1 i: 889 loss: 0.06734972447156906\n",
      "epoch: 1 i: 899 loss: 0.0635056123137474\n",
      "epoch: 1 i: 909 loss: 0.07159450650215149\n",
      "epoch: 1 i: 919 loss: 0.07136040925979614\n",
      "epoch: 1 i: 929 loss: 0.06645200401544571\n",
      "epoch: 1 i: 939 loss: 0.06918403506278992\n",
      "epoch: 1 i: 949 loss: 0.07028072327375412\n",
      "epoch: 1 i: 959 loss: 0.06645513325929642\n",
      "epoch: 1 i: 969 loss: 0.06450949609279633\n",
      "epoch: 1 i: 979 loss: 0.06697146594524384\n",
      "epoch: 1 i: 989 loss: 0.07087507843971252\n",
      "epoch: 1 i: 999 loss: 0.068881556391716\n",
      "epoch: 1 i: 1009 loss: 0.06776423752307892\n",
      "epoch: 1 i: 1019 loss: 0.06935828179121017\n",
      "epoch: 1 i: 1029 loss: 0.07015229761600494\n",
      "epoch: 1 i: 1039 loss: 0.07146980613470078\n",
      "epoch: 1 i: 1049 loss: 0.06215646490454674\n",
      "epoch: 1 i: 1059 loss: 0.06552151590585709\n",
      "epoch: 1 i: 1069 loss: 0.0642748549580574\n",
      "epoch: 1 i: 1079 loss: 0.07001268118619919\n",
      "epoch: 1 i: 1089 loss: 0.06649723649024963\n",
      "epoch: 1 i: 1099 loss: 0.06961540877819061\n",
      "epoch: 1 i: 1109 loss: 0.0652480497956276\n",
      "epoch: 1 i: 1119 loss: 0.06396406143903732\n",
      "epoch: 1 i: 1129 loss: 0.0681896060705185\n",
      "epoch: 1 i: 1139 loss: 0.0666840597987175\n",
      "epoch: 1 i: 1149 loss: 0.06671159714460373\n",
      "epoch: 1 i: 1159 loss: 0.06385040283203125\n",
      "epoch: 1 i: 1169 loss: 0.0668252557516098\n",
      "epoch: 1 i: 1179 loss: 0.06426256150007248\n",
      "epoch: 1 i: 1189 loss: 0.07100485265254974\n",
      "epoch: 1 i: 1199 loss: 0.07258663326501846\n",
      "epoch: 2 i: 9 loss: 0.06880800426006317\n",
      "epoch: 2 i: 19 loss: 0.06737533211708069\n",
      "epoch: 2 i: 29 loss: 0.06689510494470596\n",
      "epoch: 2 i: 39 loss: 0.06439920514822006\n",
      "epoch: 2 i: 49 loss: 0.06481704115867615\n",
      "epoch: 2 i: 59 loss: 0.061554715037345886\n",
      "epoch: 2 i: 69 loss: 0.0602816604077816\n",
      "epoch: 2 i: 79 loss: 0.06513313949108124\n",
      "epoch: 2 i: 89 loss: 0.06446248292922974\n",
      "epoch: 2 i: 99 loss: 0.06179313361644745\n",
      "epoch: 2 i: 109 loss: 0.06292510777711868\n",
      "epoch: 2 i: 119 loss: 0.06260503083467484\n",
      "epoch: 2 i: 129 loss: 0.062432583421468735\n",
      "epoch: 2 i: 139 loss: 0.06145001947879791\n",
      "epoch: 2 i: 149 loss: 0.06449513137340546\n",
      "epoch: 2 i: 159 loss: 0.06138245388865471\n",
      "epoch: 2 i: 169 loss: 0.06001422554254532\n",
      "epoch: 2 i: 179 loss: 0.06008317321538925\n",
      "epoch: 2 i: 189 loss: 0.06406257301568985\n",
      "epoch: 2 i: 199 loss: 0.0649760439991951\n",
      "epoch: 2 i: 209 loss: 0.0662066638469696\n",
      "epoch: 2 i: 219 loss: 0.06190866604447365\n",
      "epoch: 2 i: 229 loss: 0.06327644735574722\n",
      "epoch: 2 i: 239 loss: 0.06146206334233284\n",
      "epoch: 2 i: 249 loss: 0.06303957849740982\n",
      "epoch: 2 i: 259 loss: 0.06768518686294556\n",
      "epoch: 2 i: 269 loss: 0.0635463073849678\n",
      "epoch: 2 i: 279 loss: 0.06905058026313782\n",
      "epoch: 2 i: 289 loss: 0.06520272046327591\n",
      "epoch: 2 i: 299 loss: 0.05769885703921318\n",
      "epoch: 2 i: 309 loss: 0.06088234856724739\n",
      "epoch: 2 i: 319 loss: 0.05880801007151604\n",
      "epoch: 2 i: 329 loss: 0.06352923065423965\n",
      "epoch: 2 i: 339 loss: 0.05965806543827057\n",
      "epoch: 2 i: 349 loss: 0.06348378956317902\n",
      "epoch: 2 i: 359 loss: 0.06281164288520813\n",
      "epoch: 2 i: 369 loss: 0.059883181005716324\n",
      "epoch: 2 i: 379 loss: 0.0604364313185215\n",
      "epoch: 2 i: 389 loss: 0.06136336922645569\n",
      "epoch: 2 i: 399 loss: 0.06527546793222427\n",
      "epoch: 2 i: 409 loss: 0.059740107506513596\n",
      "epoch: 2 i: 419 loss: 0.06277702003717422\n",
      "epoch: 2 i: 429 loss: 0.060602325946092606\n",
      "epoch: 2 i: 439 loss: 0.06332682818174362\n",
      "epoch: 2 i: 449 loss: 0.06242464482784271\n",
      "epoch: 2 i: 459 loss: 0.0652490109205246\n",
      "epoch: 2 i: 469 loss: 0.06117059290409088\n",
      "epoch: 2 i: 479 loss: 0.059409163892269135\n",
      "epoch: 2 i: 489 loss: 0.06578981876373291\n",
      "epoch: 2 i: 499 loss: 0.060228243470191956\n",
      "epoch: 2 i: 509 loss: 0.05944341793656349\n",
      "epoch: 2 i: 519 loss: 0.0641423761844635\n",
      "epoch: 2 i: 529 loss: 0.0630514994263649\n",
      "epoch: 2 i: 539 loss: 0.059995297342538834\n",
      "epoch: 2 i: 549 loss: 0.062123097479343414\n",
      "epoch: 2 i: 559 loss: 0.060806453227996826\n",
      "epoch: 2 i: 569 loss: 0.06331280618906021\n",
      "epoch: 2 i: 579 loss: 0.0643559917807579\n",
      "epoch: 2 i: 589 loss: 0.06039343774318695\n",
      "epoch: 2 i: 599 loss: 0.06022311747074127\n",
      "epoch: 2 i: 609 loss: 0.06301182508468628\n",
      "epoch: 2 i: 619 loss: 0.06091051921248436\n",
      "epoch: 2 i: 629 loss: 0.06379563361406326\n",
      "epoch: 2 i: 639 loss: 0.061811599880456924\n",
      "epoch: 2 i: 649 loss: 0.0598042793571949\n",
      "epoch: 2 i: 659 loss: 0.06250301748514175\n",
      "epoch: 2 i: 669 loss: 0.061385348439216614\n",
      "epoch: 2 i: 679 loss: 0.06097230687737465\n",
      "epoch: 2 i: 689 loss: 0.06182757392525673\n",
      "epoch: 2 i: 699 loss: 0.058722734451293945\n",
      "epoch: 2 i: 709 loss: 0.06497062742710114\n",
      "epoch: 2 i: 719 loss: 0.06320450454950333\n",
      "epoch: 2 i: 729 loss: 0.06503534317016602\n",
      "epoch: 2 i: 739 loss: 0.06229881942272186\n",
      "epoch: 2 i: 749 loss: 0.059310343116521835\n",
      "epoch: 2 i: 759 loss: 0.06044381111860275\n",
      "epoch: 2 i: 769 loss: 0.05801386758685112\n",
      "epoch: 2 i: 779 loss: 0.06052182614803314\n",
      "epoch: 2 i: 789 loss: 0.059009186923503876\n",
      "epoch: 2 i: 799 loss: 0.059895869344472885\n",
      "epoch: 2 i: 809 loss: 0.06215308606624603\n",
      "epoch: 2 i: 819 loss: 0.05879467353224754\n",
      "epoch: 2 i: 829 loss: 0.05929294601082802\n",
      "epoch: 2 i: 839 loss: 0.06087224930524826\n",
      "epoch: 2 i: 849 loss: 0.06199092045426369\n",
      "epoch: 2 i: 859 loss: 0.06089106574654579\n",
      "epoch: 2 i: 869 loss: 0.05886732414364815\n",
      "epoch: 2 i: 879 loss: 0.05822226032614708\n",
      "epoch: 2 i: 889 loss: 0.0592859648168087\n",
      "epoch: 2 i: 899 loss: 0.056127022951841354\n",
      "epoch: 2 i: 909 loss: 0.06312301009893417\n",
      "epoch: 2 i: 919 loss: 0.06298553198575974\n",
      "epoch: 2 i: 929 loss: 0.05814509093761444\n",
      "epoch: 2 i: 939 loss: 0.06066036596894264\n",
      "epoch: 2 i: 949 loss: 0.06168699637055397\n",
      "epoch: 2 i: 959 loss: 0.058062274008989334\n",
      "epoch: 2 i: 969 loss: 0.0571640208363533\n",
      "epoch: 2 i: 979 loss: 0.05917683243751526\n",
      "epoch: 2 i: 989 loss: 0.06344562023878098\n",
      "epoch: 2 i: 999 loss: 0.06234974041581154\n",
      "epoch: 2 i: 1009 loss: 0.06050621345639229\n",
      "epoch: 2 i: 1019 loss: 0.06232954561710358\n",
      "epoch: 2 i: 1029 loss: 0.0621696375310421\n",
      "epoch: 2 i: 1039 loss: 0.06494660675525665\n",
      "epoch: 2 i: 1049 loss: 0.05634041503071785\n",
      "epoch: 2 i: 1059 loss: 0.05922504514455795\n",
      "epoch: 2 i: 1069 loss: 0.058729659765958786\n",
      "epoch: 2 i: 1079 loss: 0.06418881565332413\n",
      "epoch: 2 i: 1089 loss: 0.059268079698085785\n",
      "epoch: 2 i: 1099 loss: 0.06264525651931763\n",
      "epoch: 2 i: 1109 loss: 0.058852456510066986\n",
      "epoch: 2 i: 1119 loss: 0.057922448962926865\n",
      "epoch: 2 i: 1129 loss: 0.06098989397287369\n",
      "epoch: 2 i: 1139 loss: 0.05924038589000702\n",
      "epoch: 2 i: 1149 loss: 0.060613248497247696\n",
      "epoch: 2 i: 1159 loss: 0.058452457189559937\n",
      "epoch: 2 i: 1169 loss: 0.06048540398478508\n",
      "epoch: 2 i: 1179 loss: 0.05793175846338272\n",
      "epoch: 2 i: 1189 loss: 0.063071109354496\n",
      "epoch: 2 i: 1199 loss: 0.06586619466543198\n"
     ]
    }
   ],
   "source": [
    "pixelCNN.train(True)\n",
    "EPOCH = 3\n",
    "train_loss = []\n",
    "val_loss = []\n",
    "j = 0\n",
    "for epoch in range(EPOCH):\n",
    "  pixelCNN.train()\n",
    "  for i, labels in enumerate(trainloader, 0):\n",
    "    labels = labels.to(device)\n",
    "    # print(\"Labels:\", labels.shape)\n",
    "   \n",
    "    # zero the parameter gradients\n",
    "    optimizer.zero_grad()\n",
    "\n",
    "    # forward + backward + optimize\n",
    "    outputs = pixelCNN(labels.float())\n",
    "    # print(\"Outout:\", outputs.shape)\n",
    "    loss = criterion(outputs, labels.long())\n",
    "    \n",
    "    loss.backward()\n",
    "    optimizer.step()\n",
    "\n",
    "    loss = loss.item()\n",
    "    # print statistics\n",
    "    j += 1 \n",
    "    if ((i+1) % 10 == 0):\n",
    "      with torch.set_grad_enabled(False):\n",
    "        val_batch = next(iter(testloader))\n",
    "        val_batch = val_batch.to(device)\n",
    "\n",
    "        val_output = pixelCNN(val_batch.float())\n",
    "        val_loss_item = criterion(val_output, val_batch.long()).item()\n",
    "        val_loss.append(val_loss_item)\n",
    "      print(\"epoch:\", epoch, \"i:\" , i, \"loss:\", loss, \"val loss:\", val_loss_item)\n",
    "    train_loss.append(loss)"
   ]
  },
  {
   "cell_type": "code",
   "execution_count": 19,
   "metadata": {
    "colab": {
     "base_uri": "https://localhost:8080/",
     "height": 283
    },
    "colab_type": "code",
    "id": "W_bf8bFQzNb5",
    "outputId": "09b51a4f-61db-4696-b58f-3277e4c085b1"
   },
   "outputs": [
    {
     "name": "stdout",
     "output_type": "stream",
     "text": [
      "Train loss: \n"
     ]
    },
    {
     "data": {
      "image/png": "[encoded data removed]",
      "text/plain": [
       "<Figure size 432x288 with 1 Axes>"
      ]
     },
     "metadata": {
      "tags": []
     },
     "output_type": "display_data"
    }
   ],
   "source": [
    "print(\"Train loss: \")\n",
    "plt.plot(train_loss, label = \"train_loss\")\n",
    "plt.plot(np.arange(0, len(train_loss),int(len(train_loss)/len(val_loss))),val_loss, label = \"val_loss\")\n",
    "plt.legend()\n",
    "plt.show()"
   ]
  },
  {
   "cell_type": "code",
   "execution_count": 0,
   "metadata": {
    "colab": {},
    "colab_type": "code",
    "id": "3UNoj9L6spMZ"
   },
   "outputs": [],
   "source": [
    "torch.save(pixelCNN.state_dict(), 'drive/My Drive/Colab Notebooks/pixel_cnn_model')"
   ]
  },
  {
   "cell_type": "code",
   "execution_count": 0,
   "metadata": {
    "colab": {},
    "colab_type": "code",
    "id": "p-uk12A9aFzP"
   },
   "outputs": [],
   "source": [
    "pixelCNN = PixelCNN(*args, **kwargs)\n",
    "pixelCNN.load_state_dict(torch.load('drive/My Drive/Colab Notebooks/pixel_cnn_model'))"
   ]
  },
  {
   "cell_type": "code",
   "execution_count": 0,
   "metadata": {
    "colab": {
     "base_uri": "https://localhost:8080/",
     "height": 53
    },
    "colab_type": "code",
    "id": "-uFdbF_UjXMb",
    "outputId": "13858fcc-a39b-45c1-821d-a776daa4c8ad"
   },
   "outputs": [
    {
     "name": "stderr",
     "output_type": "stream",
     "text": [
      "/usr/local/lib/python3.6/dist-packages/ipykernel_launcher.py:10: UserWarning: Implicit dimension choice for softmax has been deprecated. Change the call to include dim=X as an argument.\n",
      "  # Remove the CWD from sys.path while we load stuff.\n"
     ]
    }
   ],
   "source": [
    "batch_size = 50\n",
    "image = np.random.choice(4, size=(batch_size, 3, 28, 28)).astype(np.uint8)\n",
    "\n",
    "for k in range(3):   \n",
    "  for i in range(28):\n",
    "    for j in range(28):\n",
    "      in_tensor = torch.from_numpy(image).float()\n",
    "      in_tensor = in_tensor.to(device)\n",
    "      out = pixelCNN(in_tensor)\n",
    "      probs = torch.nn.functional.softmax(out)\n",
    "      # print(probs.shape)\n",
    "      probs = torch.argmax(probs, 1)\n",
    "      probs = probs.to(\"cpu:0\").detach().numpy()\n",
    "\n",
    "      image[:, k, i, j] = probs[:, k, i, j]\n",
    "      \n",
    "      # for b in range(batch_size):\n",
    "      #   image[b, k, i, j] = np.random.choice(4, p=probs[b, k, i, j])\n",
    "\n",
    "\n",
    "image = image * 256 / 3\n",
    "image = image.astype(int)"
   ]
  },
  {
   "cell_type": "code",
   "execution_count": 0,
   "metadata": {
    "colab": {},
    "colab_type": "code",
    "id": "XDNM9st-jW8O"
   },
   "outputs": [],
   "source": [
    "#Saving\n",
    "torchvision.utils.save_image(torch.from_numpy(image), 'drive/My Drive/Colab Notebooks/sample.png', nrow=10, padding=0)"
   ]
  },
  {
   "cell_type": "code",
   "execution_count": 0,
   "metadata": {
    "colab": {},
    "colab_type": "code",
    "id": "faSDMzxDjW3o"
   },
   "outputs": [],
   "source": [
    "fig, axs = plt.subplots(10, 5, figsize=(20, 50))\n",
    "count = 0\n",
    "\n",
    "for i in range(5):\n",
    "  for j in range(10):\n",
    "    temp_image = image[count,:,:,:].astype(int)\n",
    "    count += 1\n",
    "    axs[j][i].imshow(temp_image.reshape(28,28,3))\n",
    "\n",
    "plt.show()"
   ]
  },
  {
   "cell_type": "markdown",
   "metadata": {
    "colab_type": "text",
    "id": "Ke7oyHQELOz7"
   },
   "source": []
  },
  {
   "cell_type": "code",
   "execution_count": 0,
   "metadata": {
    "colab": {},
    "colab_type": "code",
    "id": "AEKIyRE1jWwT"
   },
   "outputs": [],
   "source": []
  },
  {
   "cell_type": "code",
   "execution_count": 0,
   "metadata": {
    "colab": {},
    "colab_type": "code",
    "id": "TCojeuHsjWKM"
   },
   "outputs": [],
   "source": []
  }
 ],
 "metadata": {
  "accelerator": "GPU",
  "colab": {
   "collapsed_sections": [],
   "machine_shape": "hm",
   "name": "exercise02.ipynb",
   "provenance": []
  },
  "kernelspec": {
   "display_name": "Python 3",
   "language": "python",
   "name": "python3"
  },
  "language_info": {
   "codemirror_mode": {
    "name": "ipython",
    "version": 3
   },
   "file_extension": ".py",
   "mimetype": "text/x-python",
   "name": "python",
   "nbconvert_exporter": "python",
   "pygments_lexer": "ipython3",
   "version": "3.6.8"
  }
 },
 "nbformat": 4,
 "nbformat_minor": 1
}
