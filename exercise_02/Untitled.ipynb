{
 "cells": [
  {
   "cell_type": "code",
   "execution_count": 3,
   "metadata": {},
   "outputs": [
    {
     "name": "stdout",
     "output_type": "stream",
     "text": [
      "Collecting torch\n",
      "\u001b[?25l  Downloading https://files.pythonhosted.org/packages/ae/05/50a05de5337f7a924bb8bd70c6936230642233e424d6a9747ef1cfbde353/torch-1.3.0-cp36-cp36m-manylinux1_x86_64.whl (773.1MB)\n",
      "\u001b[K    100% |████████████████████████████████| 773.1MB 98kB/s  eta 0:00:01   5% |█▊                              | 40.3MB 12.3MB/s eta 0:01:00    47% |███████████████                 | 364.1MB 13.9MB/s eta 0:00:305.2MB 56.2MB/s eta 0:00:02\n",
      "\u001b[?25hRequirement already satisfied: numpy in /home/yannik/anaconda3/lib/python3.6/site-packages (from torch) (1.16.1)\n",
      "\u001b[31mError checking for conflicts.\n",
      "Traceback (most recent call last):\n",
      "  File \"/home/yannik/anaconda3/lib/python3.6/site-packages/pip/_vendor/pkg_resources/__init__.py\", line 2897, in _dep_map\n",
      "    return self.__dep_map\n",
      "  File \"/home/yannik/anaconda3/lib/python3.6/site-packages/pip/_vendor/pkg_resources/__init__.py\", line 2691, in __getattr__\n",
      "    raise AttributeError(attr)\n",
      "AttributeError: _DistInfoDistribution__dep_map\n",
      "\n",
      "During handling of the above exception, another exception occurred:\n",
      "\n",
      "Traceback (most recent call last):\n",
      "  File \"/home/yannik/anaconda3/lib/python3.6/site-packages/pip/_vendor/pkg_resources/__init__.py\", line 2888, in _parsed_pkg_info\n",
      "    return self._pkg_info\n",
      "  File \"/home/yannik/anaconda3/lib/python3.6/site-packages/pip/_vendor/pkg_resources/__init__.py\", line 2691, in __getattr__\n",
      "    raise AttributeError(attr)\n",
      "AttributeError: _pkg_info\n",
      "\n",
      "During handling of the above exception, another exception occurred:\n",
      "\n",
      "Traceback (most recent call last):\n",
      "  File \"/home/yannik/anaconda3/lib/python3.6/site-packages/pip/_internal/commands/install.py\", line 503, in _warn_about_conflicts\n",
      "    package_set, _dep_info = check_install_conflicts(to_install)\n",
      "  File \"/home/yannik/anaconda3/lib/python3.6/site-packages/pip/_internal/operations/check.py\", line 108, in check_install_conflicts\n",
      "    package_set, _ = create_package_set_from_installed()\n",
      "  File \"/home/yannik/anaconda3/lib/python3.6/site-packages/pip/_internal/operations/check.py\", line 47, in create_package_set_from_installed\n",
      "    package_set[name] = PackageDetails(dist.version, dist.requires())\n",
      "  File \"/home/yannik/anaconda3/lib/python3.6/site-packages/pip/_vendor/pkg_resources/__init__.py\", line 2635, in requires\n",
      "    dm = self._dep_map\n",
      "  File \"/home/yannik/anaconda3/lib/python3.6/site-packages/pip/_vendor/pkg_resources/__init__.py\", line 2899, in _dep_map\n",
      "    self.__dep_map = self._compute_dependencies()\n",
      "  File \"/home/yannik/anaconda3/lib/python3.6/site-packages/pip/_vendor/pkg_resources/__init__.py\", line 2908, in _compute_dependencies\n",
      "    for req in self._parsed_pkg_info.get_all('Requires-Dist') or []:\n",
      "  File \"/home/yannik/anaconda3/lib/python3.6/site-packages/pip/_vendor/pkg_resources/__init__.py\", line 2890, in _parsed_pkg_info\n",
      "    metadata = self.get_metadata(self.PKG_INFO)\n",
      "  File \"/home/yannik/anaconda3/lib/python3.6/site-packages/pip/_vendor/pkg_resources/__init__.py\", line 1410, in get_metadata\n",
      "    value = self._get(self._fn(self.egg_info, name))\n",
      "  File \"/home/yannik/anaconda3/lib/python3.6/site-packages/pip/_vendor/pkg_resources/__init__.py\", line 1522, in _get\n",
      "    with open(path, 'rb') as stream:\n",
      "FileNotFoundError: [Errno 2] Datei oder Verzeichnis nicht gefunden: '/home/yannik/anaconda3/lib/python3.6/site-packages/tensorflow-1.7.0.dist-info/METADATA'\u001b[0m\n",
      "Installing collected packages: torch\n",
      "Successfully installed torch-1.3.0\n"
     ]
    }
   ],
   "source": [
    "!pip3 install torch"
   ]
  },
  {
   "cell_type": "code",
   "execution_count": 4,
   "metadata": {},
   "outputs": [],
   "source": [
    "import pickle\n",
    "\n",
    "\n",
    "with open('colored-mnist.pkl', 'rb') as f:\n",
    "    data = pickle.load(f)"
   ]
  },
  {
   "cell_type": "code",
   "execution_count": null,
   "metadata": {},
   "outputs": [],
   "source": []
  }
 ],
 "metadata": {
  "kernelspec": {
   "display_name": "Python 3",
   "language": "python",
   "name": "python3"
  },
  "language_info": {
   "codemirror_mode": {
    "name": "ipython",
    "version": 3
   },
   "file_extension": ".py",
   "mimetype": "text/x-python",
   "name": "python",
   "nbconvert_exporter": "python",
   "pygments_lexer": "ipython3",
   "version": "3.6.8"
  }
 },
 "nbformat": 4,
 "nbformat_minor": 2
}
