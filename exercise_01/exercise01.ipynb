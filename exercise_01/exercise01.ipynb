{
 "cells": [
  {
   "cell_type": "code",
   "execution_count": 0,
   "metadata": {
    "colab": {},
    "colab_type": "code",
    "id": "nYmjXBrTQPMz"
   },
   "outputs": [],
   "source": [
    "import numpy as np\n",
    "import torch\n",
    "\n",
    "import matplotlib.pyplot  as plt\n",
    "%matplotlib inline"
   ]
  },
  {
   "cell_type": "markdown",
   "metadata": {
    "colab_type": "text",
    "id": "jhhQESV2jqTf"
   },
   "source": [
    "## Aufgabe 1a)"
   ]
  },
  {
   "cell_type": "markdown",
   "metadata": {
    "colab_type": "text",
    "id": "CQPN-pSimbCh"
   },
   "source": [
    " ## Likelihood\n",
    "- First, run the following code. It will generate a dataset of samples from a categorical distribution where $x\\in\\{1,...,100\\}$. \n",
    "- Take the first 80\\% of the samples as a training set and the remaining 20\\% as a test set."
   ]
  },
  {
   "cell_type": "code",
   "execution_count": 0,
   "metadata": {
    "colab": {},
    "colab_type": "code",
    "id": "XO2VwLusQpWJ"
   },
   "outputs": [],
   "source": [
    "def sample_data():\n",
    "  count = 10000\n",
    "  rand = np.random.RandomState(0)\n",
    "  a = 0.3 + 0.1 * rand.randn(count)\n",
    "  b = 0.8 + 0.05 * rand.randn(count)\n",
    "  mask = rand.rand(count) < 0.5\n",
    "  samples = np.clip(a * mask + b * (1 - mask), 0.0, 1.0)\n",
    "  return np.digitize(samples, np.linspace(0.0, 1.0, 100))\n",
    "\n",
    "sample_data = sample_data()"
   ]
  },
  {
   "cell_type": "code",
   "execution_count": 3,
   "metadata": {
    "colab": {
     "base_uri": "https://localhost:8080/",
     "height": 295
    },
    "colab_type": "code",
    "id": "9MJn7ntSxHZW",
    "outputId": "c86eda1c-0a82-4b40-c54d-07a634f0ff80"
   },
   "outputs": [
    {
     "data": {
      "image/png": "[encoded data removed]",
      "text/plain": [
       "<Figure size 432x288 with 1 Axes>"
      ]
     },
     "metadata": {
      "tags": []
     },
     "output_type": "display_data"
    }
   ],
   "source": [
    "plt.hist(sample_data, bins=100)\n",
    "\n",
    "plt.xlabel('Classes')\n",
    "plt.ylabel('Model Probabilities')\n",
    "plt.title('Sample Data')\n",
    "plt.show()"
   ]
  },
  {
   "cell_type": "code",
   "execution_count": 4,
   "metadata": {
    "colab": {
     "base_uri": "https://localhost:8080/",
     "height": 70
    },
    "colab_type": "code",
    "id": "7GX8V0FVlUcN",
    "outputId": "1273ff83-066f-4b68-81a7-f63224426e93"
   },
   "outputs": [
    {
     "name": "stdout",
     "output_type": "stream",
     "text": [
      "train shape:  (8000,)\n",
      "test shape:  (2000,)\n",
      "Example of 10 inputs: [48 76 88 81 79 21 85 87 29 77]\n"
     ]
    }
   ],
   "source": [
    "x_train = sample_data[:8000]\n",
    "x_test = sample_data[8000:]\n",
    "print(\"train shape: \", x_train.shape)\n",
    "print(\"test shape: \", x_test.shape)\n",
    "print(\"Example of 10 inputs:\", x_train[0:10])"
   ]
  },
  {
   "cell_type": "code",
   "execution_count": 0,
   "metadata": {
    "colab": {},
    "colab_type": "code",
    "id": "SP2nPWY4TChf"
   },
   "outputs": [],
   "source": [
    "class MyDataset(torch.utils.data.Dataset):\n",
    "  def __init__(self, target, transform=None):\n",
    "      self.target = torch.from_numpy(target).long()\n",
    "      self.transform = transform\n",
    "      \n",
    "  def __getitem__(self, index):\n",
    "      y = self.target[index]\n",
    "      \n",
    "      if self.transform:\n",
    "          y = self.transform(y)\n",
    "          \n",
    "      return y\n",
    "  \n",
    "  def __len__(self):\n",
    "      return len(self.target)"
   ]
  },
  {
   "cell_type": "code",
   "execution_count": 0,
   "metadata": {
    "colab": {},
    "colab_type": "code",
    "id": "OPlgam5w-0xy"
   },
   "outputs": [],
   "source": [
    "BATCHSIZE = 100"
   ]
  },
  {
   "cell_type": "code",
   "execution_count": 0,
   "metadata": {
    "colab": {},
    "colab_type": "code",
    "id": "EpVY8OE-lJcI"
   },
   "outputs": [],
   "source": [
    "train_ds = MyDataset(x_train)\n",
    "test_ds = MyDataset(x_test)\n",
    "\n",
    "train_ds = torch.utils.data.DataLoader(train_ds, batch_size=BATCHSIZE)\n",
    "test_ds = torch.utils.data.DataLoader(test_ds, batch_size=BATCHSIZE)"
   ]
  },
  {
   "cell_type": "markdown",
   "metadata": {
    "colab_type": "text",
    "id": "N1aZS6txmNN2"
   },
   "source": [
    "## Model\n",
    "\n",
    "- Let $\\theta=(\\theta_1,...,\\theta_{100})\\in \\Re^{100}$, and define the model\n",
    "$$\n",
    "p_{\\theta}(x)=\\frac{e^{\\theta x} }{\\sum_{x'}e^{\\theta x'}}\n",
    "$$\n",
    "\n"
   ]
  },
  {
   "cell_type": "code",
   "execution_count": 0,
   "metadata": {
    "colab": {},
    "colab_type": "code",
    "id": "blvymBm6uTrX"
   },
   "outputs": [],
   "source": [
    "class P_theta(torch.nn.Module):\n",
    "  def __init__(self):\n",
    "      super().__init__()\n",
    "      self.theta = torch.nn.parameter.Parameter(torch.zeros(100, requires_grad=True))\n",
    "  \n",
    "  def forward(self, bs):\n",
    "      return self.theta.repeat(bs, 1)"
   ]
  },
  {
   "cell_type": "code",
   "execution_count": 0,
   "metadata": {
    "colab": {},
    "colab_type": "code",
    "id": "Q7YCpY8QwrId"
   },
   "outputs": [],
   "source": [
    "p_theta = P_theta()\n",
    "optimizer = torch.optim.SGD(p_theta.parameters(), lr=0.05)"
   ]
  },
  {
   "cell_type": "markdown",
   "metadata": {
    "colab_type": "text",
    "id": "Y-hWkOAVBWZG"
   },
   "source": [
    "### Train the Model"
   ]
  },
  {
   "cell_type": "code",
   "execution_count": 10,
   "metadata": {
    "colab": {
     "base_uri": "https://localhost:8080/",
     "height": 728
    },
    "colab_type": "code",
    "id": "VLZ-BJaxnRgs",
    "outputId": "3208f72a-45c7-46e9-e6e5-2ca74e01a144"
   },
   "outputs": [
    {
     "name": "stdout",
     "output_type": "stream",
     "text": [
      "epoch:  0 i: 0 loss:  6.643849402730298\n",
      "epoch:  0 i: 20 loss:  6.627691288716436\n",
      "epoch:  0 i: 40 loss:  6.614130112730601\n",
      "epoch:  0 i: 60 loss:  6.5894155178710125\n",
      "epoch:  1 i: 0 loss:  6.5722385786334385\n",
      "epoch:  1 i: 20 loss:  6.565471405287289\n",
      "epoch:  1 i: 40 loss:  6.559855139840713\n",
      "epoch:  1 i: 60 loss:  6.521818768845291\n",
      "epoch:  2 i: 0 loss:  6.506203432077551\n",
      "epoch:  2 i: 20 loss:  6.508434391024544\n",
      "epoch:  2 i: 40 loss:  6.510459658721103\n",
      "epoch:  2 i: 60 loss:  6.459673181921317\n",
      "epoch:  3 i: 0 loss:  6.445563725244532\n",
      "epoch:  3 i: 20 loss:  6.456370427094147\n",
      "epoch:  3 i: 40 loss:  6.465733162607118\n",
      "epoch:  3 i: 60 loss:  6.402773065848658\n",
      "epoch:  4 i: 0 loss:  6.390089689312827\n",
      "epoch:  4 i: 20 loss:  6.409023603311616\n",
      "epoch:  4 i: 40 loss:  6.425432124065135\n",
      "epoch:  4 i: 60 loss:  6.350855631136797\n",
      "epoch:  5 i: 0 loss:  6.339521974444938\n",
      "epoch:  5 i: 20 loss:  6.366115995713155\n",
      "epoch:  5 i: 40 loss:  6.3892834346455825\n",
      "epoch:  5 i: 60 loss:  6.303634010724093\n",
      "epoch:  6 i: 0 loss:  6.293571649787412\n",
      "epoch:  6 i: 20 loss:  6.327344226902644\n",
      "epoch:  6 i: 40 loss:  6.356990596258375\n",
      "epoch:  6 i: 60 loss:  6.260804827214427\n",
      "epoch:  7 i: 0 loss:  6.251911260373009\n",
      "epoch:  7 i: 20 loss:  6.29239116087189\n",
      "epoch:  7 i: 40 loss:  6.3282467918543714\n",
      "epoch:  7 i: 60 loss:  6.2220406256405525\n",
      "epoch:  8 i: 0 loss:  6.21422642191595\n",
      "epoch:  8 i: 20 loss:  6.260934846098479\n",
      "epoch:  8 i: 40 loss:  6.3027390130090035\n",
      "epoch:  8 i: 60 loss:  6.187004320006782\n",
      "epoch:  9 i: 0 loss:  6.180180736351149\n",
      "epoch:  9 i: 20 loss:  6.232648515545771\n",
      "epoch:  9 i: 40 loss:  6.280159066811923\n",
      "epoch:  9 i: 60 loss:  6.15537258292949\n"
     ]
    }
   ],
   "source": [
    "EPOCH = 10\n",
    "train_loss_list = []\n",
    "for epoch in range(EPOCH):\n",
    "  for i, labels in enumerate(train_ds, 0):\n",
    "    # print(\"Labels:\", labels.shape)\n",
    "\n",
    "    # zero the parameter gradients\n",
    "    optimizer.zero_grad()\n",
    "\n",
    "    # forward + backward + optimize\n",
    "    outputs = p_theta(labels.size(0))\n",
    "\n",
    "    loss = torch.nn.functional.cross_entropy(outputs, labels)\n",
    "\n",
    "    # if want to compute the loss by hand:\n",
    "    # labels = torch.nn.functional.one_hot(labels, 100)\n",
    "    # loss = - torch.mean(  torch.sum(outputs * labels,1) -  torch.log(  torch.sum(torch.exp(outputs) ,1) ))\n",
    "    \n",
    "    loss_bit = np.log2(np.exp(loss.item()))\n",
    "    loss.backward()\n",
    "    optimizer.step()\n",
    "\n",
    "    # print statistics\n",
    "    if (i % 20 == 0):\n",
    "      print(\"epoch: \", epoch, \"i:\" , i, \"loss: \", loss_bit)\n",
    "    train_loss_list.append(loss_bit)"
   ]
  },
  {
   "cell_type": "code",
   "execution_count": 11,
   "metadata": {
    "colab": {
     "base_uri": "https://localhost:8080/",
     "height": 283
    },
    "colab_type": "code",
    "id": "8rjLjYrFTddx",
    "outputId": "19e9c05f-76d1-4234-f093-49262debc20e"
   },
   "outputs": [
    {
     "name": "stdout",
     "output_type": "stream",
     "text": [
      "Train loss: \n"
     ]
    },
    {
     "data": {
      "image/png": "[encoded data removed]",
      "text/plain": [
       "<Figure size 432x288 with 1 Axes>"
      ]
     },
     "metadata": {
      "tags": []
     },
     "output_type": "display_data"
    }
   ],
   "source": [
    "print(\"Train loss: \")\n",
    "plt.plot(train_loss_list)\n",
    "plt.show()"
   ]
  },
  {
   "cell_type": "markdown",
   "metadata": {
    "colab_type": "text",
    "id": "lNpyvyRnBZpL"
   },
   "source": [
    "## Test The Model"
   ]
  },
  {
   "cell_type": "code",
   "execution_count": 12,
   "metadata": {
    "colab": {
     "base_uri": "https://localhost:8080/",
     "height": 373
    },
    "colab_type": "code",
    "id": "k3rZB1XVTdjd",
    "outputId": "cbcaa096-3f71-4ebc-99ff-88be9160efcd"
   },
   "outputs": [
    {
     "name": "stdout",
     "output_type": "stream",
     "text": [
      "0 : loss  4.32619571685791\n",
      "1 : loss  4.251819610595703\n",
      "2 : loss  4.298064708709717\n",
      "3 : loss  4.296680927276611\n",
      "4 : loss  4.269058704376221\n",
      "5 : loss  4.280087471008301\n",
      "6 : loss  4.296474456787109\n",
      "7 : loss  4.230045795440674\n",
      "8 : loss  4.280022144317627\n",
      "9 : loss  4.290212154388428\n",
      "10 : loss  4.272128105163574\n",
      "11 : loss  4.287589073181152\n",
      "12 : loss  4.235363006591797\n",
      "13 : loss  4.2804670333862305\n",
      "14 : loss  4.344542980194092\n",
      "15 : loss  4.335600852966309\n",
      "16 : loss  4.323179244995117\n",
      "17 : loss  4.277219772338867\n",
      "18 : loss  4.3183794021606445\n",
      "19 : loss  4.289189338684082\n"
     ]
    }
   ],
   "source": [
    "test_loss_list = []\n",
    "for i, labels in enumerate(test_ds, 0):\n",
    "  \n",
    "  outputs = p_theta(labels.size(0))\n",
    "\n",
    "  loss = torch.nn.functional.cross_entropy(outputs, labels)\n",
    "  loss_bit = np.log2(np.exp(loss.item()))\n",
    "\n",
    "  # print statistics\n",
    "  print(i, \": loss \", loss.item())\n",
    "  test_loss_list.append(loss)"
   ]
  },
  {
   "cell_type": "code",
   "execution_count": 13,
   "metadata": {
    "colab": {
     "base_uri": "https://localhost:8080/",
     "height": 283
    },
    "colab_type": "code",
    "id": "unSC4DQkBhdQ",
    "outputId": "a02a0bdf-a1ae-4718-bc2e-84b3671bfd52"
   },
   "outputs": [
    {
     "name": "stdout",
     "output_type": "stream",
     "text": [
      "Test loss:\n"
     ]
    },
    {
     "data": {
      "image/png": "[encoded data removed]",
      "text/plain": [
       "<Figure size 432x288 with 1 Axes>"
      ]
     },
     "metadata": {
      "tags": []
     },
     "output_type": "display_data"
    }
   ],
   "source": [
    "print(\"Test loss:\")\n",
    "plt.plot(test_loss_list)\n",
    "plt.show()"
   ]
  },
  {
   "cell_type": "markdown",
   "metadata": {
    "colab_type": "text",
    "id": "Bm5bYqazG4Rv"
   },
   "source": [
    "## Aufgabe 1b)"
   ]
  },
  {
   "cell_type": "code",
   "execution_count": 14,
   "metadata": {
    "colab": {
     "base_uri": "https://localhost:8080/",
     "height": 295
    },
    "colab_type": "code",
    "id": "OUfOOl6EBhjm",
    "outputId": "d4954972-2c90-45e8-e306-3a893962e692"
   },
   "outputs": [
    {
     "data": {
      "image/png": "[encoded data removed]",
      "text/plain": [
       "<Figure size 432x288 with 1 Axes>"
      ]
     },
     "metadata": {
      "tags": []
     },
     "output_type": "display_data"
    }
   ],
   "source": [
    "x = np.arange(1,101)\n",
    "samples = sample_data[0:1000]\n",
    "unique, count = np.unique(samples, return_counts=True)\n",
    "\n",
    "plt.bar(unique , count)\n",
    "plt.xlabel('Classes')\n",
    "plt.ylabel('Model Probabilities')\n",
    "plt.title('My Model: p_theta')\n",
    "plt.show()"
   ]
  },
  {
   "cell_type": "code",
   "execution_count": 15,
   "metadata": {
    "colab": {
     "base_uri": "https://localhost:8080/",
     "height": 295
    },
    "colab_type": "code",
    "id": "6KaCXFoLBhm_",
    "outputId": "69e51583-d2b7-4ad6-d931-7e889bddf044"
   },
   "outputs": [
    {
     "data": {
      "image/png": "[encoded data removed]",
      "text/plain": [
       "<Figure size 432x288 with 1 Axes>"
      ]
     },
     "metadata": {
      "tags": []
     },
     "output_type": "display_data"
    }
   ],
   "source": [
    "x = np.arange(1,101)\n",
    "theta = p_theta.theta.detach().numpy()\n",
    "y = np.exp(theta) / np.sum(np.exp(theta))\n",
    "\n",
    "plt.bar(x , y)\n",
    "plt.xlabel('Classes')\n",
    "plt.ylabel('Model Probabilities')\n",
    "plt.title('My Model: p_theta')\n",
    "plt.show()"
   ]
  }
 ],
 "metadata": {
  "colab": {
   "collapsed_sections": [],
   "name": "exercise01.ipynb",
   "provenance": []
  },
  "kernelspec": {
   "display_name": "Python 3",
   "language": "python",
   "name": "python3"
  },
  "language_info": {
   "codemirror_mode": {
    "name": "ipython",
    "version": 3
   },
   "file_extension": ".py",
   "mimetype": "text/x-python",
   "name": "python",
   "nbconvert_exporter": "python",
   "pygments_lexer": "ipython3",
   "version": "3.6.8"
  }
 },
 "nbformat": 4,
 "nbformat_minor": 1
}
