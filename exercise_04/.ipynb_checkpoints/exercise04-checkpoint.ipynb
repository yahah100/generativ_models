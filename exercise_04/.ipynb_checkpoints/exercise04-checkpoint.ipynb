{
 "cells": [
  {
   "cell_type": "code",
   "execution_count": 1,
   "metadata": {
    "colab": {},
    "colab_type": "code",
    "id": "TI4Tiut3ZBph"
   },
   "outputs": [],
   "source": [
    "import numpy as np\n",
    "import torch\n",
    "import torch.nn as nn\n",
    "import torch.nn.functional as F\n",
    "import time\n",
    "\n",
    "import matplotlib.pyplot  as plt\n",
    "%matplotlib inline"
   ]
  },
  {
   "cell_type": "markdown",
   "metadata": {
    "colab_type": "text",
    "id": "Zuz8EsdIgvxQ"
   },
   "source": [
    "# Part A\n",
    "### Train one VAE in this configuration on both datasets:#\n",
    "- 2D latent variables z with a standard normal prior p(z) = N (z; 0, I).\n",
    "\n",
    "- An approximate posterior q θ (z|x) = N (z; μ θ (x), Σ θ (x))), where μ θ (x) is a mean\n",
    "vector and Σ θ (x) is a diagonal covariance matrix\n",
    "\n",
    "- A decoder p θ (x|z) = N (x; μ θ (z), Σ θ (z)), where μ θ (z) is a mean vector and Σ θ (z) is\n",
    "a diagonal covariance matrix\n",
    "\n",
    "### and train another in this configuration, also on both datasets:\n",
    "- Prior and approximate posterior identical to above\n",
    "\n",
    "- A decoder p θ (x|z) = N (x; μ θ (z), σ θ 2 (z)I), where μ θ (z) is a mean vector and σ θ 2 (z) is\n",
    "a scaler.\n",
    "\n",
    "### Deliverables for all 4 choices of datasets and models:\n",
    "\n",
    "- Loss curves and final loss, in bits per dimension. Include separate curves and numbers\n",
    "for the full ELBO, the KL term E x E z∼q(z|x) [KL(q(z|x)kp(z))], the decoder term\n",
    "E x E z∼q(z|x) [−logp(x|z)].\n",
    "\n",
    "- Samples from the full generation path (z ∼ p(z), x ∼ p(x|z)) and without decoder\n",
    "noise (z ∼ p(z), x = μ(z)). Draw both in the same plot.\n",
    "\n",
    "- Is the VAE using the latent code? How do you know? If it does, what about the data\n",
    "does it capture qualitatively?"
   ]
  },
  {
   "cell_type": "code",
   "execution_count": 2,
   "metadata": {
    "colab": {},
    "colab_type": "code",
    "id": "UeYrPJ0vgB6x"
   },
   "outputs": [],
   "source": [
    "BATCHSIZE = 1000"
   ]
  },
  {
   "cell_type": "code",
   "execution_count": 3,
   "metadata": {
    "colab": {},
    "colab_type": "code",
    "id": "JUAszFRPZF7I"
   },
   "outputs": [],
   "source": [
    "def sample_data_1():\n",
    "  count = 100000\n",
    "  rand = np.random.RandomState(0)\n",
    "  return [[1.0, 2.0]] + rand.randn(count, 2) * [[5.0, 1.0]]\n",
    "\n",
    "def sample_data_2():\n",
    "  count = 100000\n",
    "  rand = np.random.RandomState(0)\n",
    "  return [[1.0, 2.0]] + (rand.randn(count, 2) * \n",
    "                         [[5.0, 1.0]]).dot([[np.sqrt(2)/2, np.sqrt(2)/2], \n",
    "                                            [-np.sqrt(2)/2, np.sqrt(2)/2]])\n"
   ]
  },
  {
   "cell_type": "code",
   "execution_count": 4,
   "metadata": {
    "colab": {
     "base_uri": "https://localhost:8080/",
     "height": 89
    },
    "colab_type": "code",
    "id": "pEOzu7oOZF-Y",
    "outputId": "9da1554a-29ab-45c1-be55-055c0196ddda"
   },
   "outputs": [
    {
     "name": "stdout",
     "output_type": "stream",
     "text": [
      "data 1 shape: (100000, 2)\n",
      "data 1 example: [9.82026173 2.40015721]\n",
      "data 2 shape: (100000, 2)\n",
      "data 2 example: [6.95391301 8.51982076]\n"
     ]
    }
   ],
   "source": [
    "data_1 = sample_data_1()\n",
    "data_2 = sample_data_2()\n",
    "\n",
    "print(\"data 1 shape:\",data_1.shape)\n",
    "print(\"data 1 example:\", data_1[0])\n",
    "print(\"data 2 shape:\",data_2.shape)\n",
    "print(\"data 2 example:\", data_2[0])"
   ]
  },
  {
   "cell_type": "code",
   "execution_count": 5,
   "metadata": {
    "colab": {
     "base_uri": "https://localhost:8080/",
     "height": 545
    },
    "colab_type": "code",
    "id": "isyC5EW8ZGBa",
    "outputId": "6bb2a67d-e0b9-42a2-cd5c-0869bdf1468d"
   },
   "outputs": [
    {
     "data": {
      "image/png": "[encoded data removed]",
      "text/plain": [
       "<Figure size 432x288 with 1 Axes>"
      ]
     },
     "metadata": {
      "needs_background": "light"
     },
     "output_type": "display_data"
    },
    {
     "data": {
      "image/png": "[encoded data removed]",
      "text/plain": [
       "<Figure size 432x288 with 1 Axes>"
      ]
     },
     "metadata": {
      "needs_background": "light"
     },
     "output_type": "display_data"
    }
   ],
   "source": [
    "plt.scatter(data_1[:,0], data_1[:,1])\n",
    "plt.title(\"Datasample 1\")\n",
    "plt.show()\n",
    "plt.scatter(data_2[:,0], data_2[:,1])\n",
    "plt.title(\"Datasample 2\")\n",
    "plt.show()"
   ]
  },
  {
   "cell_type": "markdown",
   "metadata": {
    "colab_type": "text",
    "id": "BFupAoHHgbGu"
   },
   "source": [
    "Split the data into train and test"
   ]
  },
  {
   "cell_type": "code",
   "execution_count": 6,
   "metadata": {
    "colab": {
     "base_uri": "https://localhost:8080/",
     "height": 53
    },
    "colab_type": "code",
    "id": "Wzlxfy_ZbdeQ",
    "outputId": "35a3e664-5e8c-4632-a372-6e92a805973f"
   },
   "outputs": [
    {
     "name": "stdout",
     "output_type": "stream",
     "text": [
      "train shape:  (80000, 2)\n",
      "test shape:  (20000, 2)\n"
     ]
    }
   ],
   "source": [
    "data_1_train = data_1[:80000]\n",
    "data_1_test = data_1[80000:]\n",
    "\n",
    "data_2_train = data_2[:80000]\n",
    "data_2_test = data_2[80000:]\n",
    "\n",
    "print(\"train shape: \", data_1_train.shape)\n",
    "print(\"test shape: \", data_1_test.shape)"
   ]
  },
  {
   "cell_type": "code",
   "execution_count": 7,
   "metadata": {
    "colab": {},
    "colab_type": "code",
    "id": "zdMGFj69dov-"
   },
   "outputs": [],
   "source": [
    "class MyDataset(torch.utils.data.Dataset):\n",
    "  def __init__(self, x, transform=None):\n",
    "      self.x = torch.from_numpy(x).float()\n",
    "      self.transform = transform\n",
    "      \n",
    "  def __getitem__(self, index):\n",
    "      y = self.x[index]\n",
    "      \n",
    "      if self.transform:\n",
    "          y = self.transform(y)\n",
    "      return y\n",
    "  \n",
    "  def __len__(self):\n",
    "      return len(self.x)"
   ]
  },
  {
   "cell_type": "markdown",
   "metadata": {
    "colab_type": "text",
    "id": "EQH4pxsTgjMi"
   },
   "source": [
    "Put the data into pytorch dataloader"
   ]
  },
  {
   "cell_type": "code",
   "execution_count": 8,
   "metadata": {
    "colab": {},
    "colab_type": "code",
    "id": "_hkrn5jhdozb"
   },
   "outputs": [],
   "source": [
    "train_ds_1 = MyDataset(data_1_train)\n",
    "test_ds_1 = MyDataset(data_1_test)\n",
    "train_ds_2 = MyDataset(data_2_train)\n",
    "test_ds_2 = MyDataset(data_2_test)"
   ]
  },
  {
   "cell_type": "code",
   "execution_count": 9,
   "metadata": {
    "colab": {},
    "colab_type": "code",
    "id": "DfKospuedo2Q"
   },
   "outputs": [],
   "source": [
    "train_loader_1 = torch.utils.data.DataLoader(train_ds_1, batch_size=BATCHSIZE, shuffle=True)\n",
    "test_loader_1 = torch.utils.data.DataLoader(test_ds_1, batch_size=BATCHSIZE,shuffle=True)\n",
    "train_loader_2 = torch.utils.data.DataLoader(train_ds_2, batch_size=BATCHSIZE,shuffle=True)\n",
    "test_loader_2 = torch.utils.data.DataLoader(test_ds_2, batch_size=BATCHSIZE,shuffle=True)"
   ]
  },
  {
   "cell_type": "code",
   "execution_count": 10,
   "metadata": {
    "colab": {},
    "colab_type": "code",
    "id": "RAWlqNRIbdhP"
   },
   "outputs": [],
   "source": [
    "class VAE(nn.Module):\n",
    "  def __init__(self, scalar=False, latent_variables=2,): \n",
    "    super(VAE,self).__init__()\n",
    "    self.latent_variables = latent_variables\n",
    "    self.scalar= scalar\n",
    "    self.out_features = latent_variables + 1 if scalar else 2 * latent_variables\n",
    "\n",
    "    self.encoder = nn.Sequential(\n",
    "        nn.Linear(in_features=latent_variables, out_features=32),\n",
    "        nn.ReLU(),\n",
    "        nn.Linear(in_features=32, out_features=32),\n",
    "        nn.ReLU(),\n",
    "        nn.Linear(in_features=32, out_features=(self.latent_variables*2))\n",
    "    )\n",
    "        \n",
    "    self.decoder = nn.Sequential(\n",
    "        nn.Linear(in_features=self.latent_variables, out_features=32),\n",
    "        nn.ReLU(),\n",
    "        nn.Linear(in_features=32, out_features=32),\n",
    "        nn.ReLU(),\n",
    "        nn.Linear(in_features=32, out_features=self.out_features)\n",
    "    )\n",
    "\n",
    "  def reparametrisation(self, mu, log_var):\n",
    "    # This is needed because you can not backprob through a random node\n",
    "    # N(mu, sigma) = mu + epsilon * sigma, where epsilon ~ N(0, 1)\n",
    "    std = torch.exp(0.5 * log_var)\n",
    "    eps = torch.randn_like(std)\n",
    "    return mu + eps*std  \n",
    "  \n",
    "  def sample(self, z):\n",
    "    x_sample = self.decoder(z)\n",
    "    x_mu, x_log_var = torch.chunk(x_sample, 2, dim=-1)\n",
    "    without_decoder_noise = x_mu\n",
    "    full_generation_path = self.reparametrisation(x_mu, x_log_var)\n",
    "    return full_generation_path, without_decoder_noise\n",
    "\n",
    "  def log_normal(self, x, mean, log_var, eps=1e-5):\n",
    "    c = - 0.5 * np.log(2*np.pi)\n",
    "    return c - log_var/2 - (x - mean)**2 / (2 * torch.exp(log_var) + eps)\n",
    "\n",
    "  def loss(self, x, mu, log_var, x_mu, x_log_var):\n",
    "    # print(\"x:\", x.shape, \"mu:\", mu.shape, \"log_var:\", log_var.shape, \"x_mu:\", x_mu.shape, \"x_log_var:\", x_log_var.shape)\n",
    "    likelihood = torch.sum(-self.log_normal(x, x_mu, x_log_var), dim=1)\n",
    "  \n",
    "    KLD = torch.mean(-0.5 * torch.sum(1 + log_var - mu**2 - torch.exp(log_var), dim=1))\n",
    "    \n",
    "    NLL = torch.mean(likelihood)/np.log(2)/2\n",
    "    \n",
    "    ELBO = NLL + KLD    \n",
    "\n",
    "    return ELBO, KLD, NLL\n",
    "\n",
    "  def forward(self, x):\n",
    "    mu, log_var = torch.chunk(self.encoder(x), 2, dim=-1)\n",
    "\n",
    "    z = self.reparametrisation(mu, log_var)\n",
    "\n",
    "    x_sample = self.decoder(z)\n",
    "\n",
    "    if self.scalar:\n",
    "      x_mu, x_log_var = torch.chunk(x_sample, 2, dim=-1)\n",
    "      x_log_var = torch.ones_like(x_mu) * x_log_var\n",
    "    \n",
    "    else:\n",
    "      x_mu, x_log_var = torch.chunk(x_sample, 2, dim=-1)\n",
    "\n",
    "    return mu, log_var, x_mu, x_log_var\n",
    "\n"
   ]
  },
  {
   "cell_type": "code",
   "execution_count": 11,
   "metadata": {
    "colab": {},
    "colab_type": "code",
    "id": "7fAXtEGihDfG"
   },
   "outputs": [],
   "source": [
    "device = torch.device(\"cuda:0\" if torch.cuda.is_available() else \"cpu\")"
   ]
  },
  {
   "cell_type": "code",
   "execution_count": 12,
   "metadata": {
    "colab": {
     "base_uri": "https://localhost:8080/",
     "height": 305
    },
    "colab_type": "code",
    "id": "osOWBjlNbdkc",
    "outputId": "e71effe2-5630-4f49-989b-2adb8e945650"
   },
   "outputs": [
    {
     "name": "stdout",
     "output_type": "stream",
     "text": [
      "VAE(\n",
      "  (encoder): Sequential(\n",
      "    (0): Linear(in_features=2, out_features=32, bias=True)\n",
      "    (1): ReLU()\n",
      "    (2): Linear(in_features=32, out_features=32, bias=True)\n",
      "    (3): ReLU()\n",
      "    (4): Linear(in_features=32, out_features=4, bias=True)\n",
      "  )\n",
      "  (decoder): Sequential(\n",
      "    (0): Linear(in_features=2, out_features=32, bias=True)\n",
      "    (1): ReLU()\n",
      "    (2): Linear(in_features=32, out_features=32, bias=True)\n",
      "    (3): ReLU()\n",
      "    (4): Linear(in_features=32, out_features=4, bias=True)\n",
      "  )\n",
      ")\n"
     ]
    }
   ],
   "source": [
    "vae = VAE().to(device)\n",
    "print(vae)"
   ]
  },
  {
   "cell_type": "code",
   "execution_count": 13,
   "metadata": {
    "colab": {},
    "colab_type": "code",
    "id": "-Wc-EHhegZSW"
   },
   "outputs": [],
   "source": [
    "def train_vae(vae, train_loader, test_loader, epochs=50):\n",
    "  EPOCH = epochs\n",
    "  train_loss = []\n",
    "  train_kld = []\n",
    "  train_nll = []\n",
    "\n",
    "  val_loss = []\n",
    "  val_kld = []\n",
    "  val_nll = []\n",
    "  j = 0\n",
    "  for epoch in range(EPOCH):\n",
    "    vae.train()\n",
    "    start_time = time.time()\n",
    "    for i, x in enumerate(train_loader, 0):\n",
    "      x = x.to(device).float()\n",
    "    \n",
    "      # zero the parameter gradients\n",
    "      optimizer.zero_grad()\n",
    "\n",
    "      # forward + backward + optimize\n",
    "      mu, log_var, x_mu, x_log_var = vae(x)\n",
    "\n",
    "      loss, kld, nll = vae.loss(x, mu, log_var, x_mu, x_log_var)\n",
    "\n",
    "      loss.backward()\n",
    "      optimizer.step()\n",
    "\n",
    "      train_loss.append(loss.item())\n",
    "      train_kld.append(kld.item())\n",
    "      train_nll.append(nll.item())\n",
    "\n",
    "    # print statistics\n",
    "    \n",
    "    with torch.set_grad_enabled(False):\n",
    "      for val_batch in test_loader:\n",
    "        x_val = val_batch.to(device).float()\n",
    "        mu, log_var, x_mu, x_log_var =  vae(x_val)\n",
    "        v_loss, v_kld, v_nll = vae.loss(x_val, mu, log_var, x_mu, x_log_var)\n",
    "\n",
    "        val_loss.append(v_loss.item())\n",
    "        val_kld.append(v_kld.item())\n",
    "        val_nll.append(v_nll.item())\n",
    "      sec = (time.time() - start_time)\n",
    "    if (epoch % 10 == 0):\n",
    "      print(\"--- epoch:\", epoch, \"sec:\", sec, \"---\")\n",
    "      print(\"loss:\", loss.item(), \"val loss:\", v_loss.item(), \n",
    "            \"KLD:\", kld.item(), \"val KLD:\", v_kld.item(),\n",
    "            \"NLL:\", nll.item(), \"val NNL:\", v_nll.item(), \"\\n\")\n",
    "  return train_loss, train_kld, train_nll, val_loss, val_kld, val_nll"
   ]
  },
  {
   "cell_type": "code",
   "execution_count": 14,
   "metadata": {
    "colab": {},
    "colab_type": "code",
    "id": "Yw_sDrvlTJPD"
   },
   "outputs": [],
   "source": [
    "def plot_loss(train_loss, val_loss, train_kld, val_kld, train_nll, val_nll): \n",
    "  f, axarr = plt.subplots(1,3, figsize=(15,5))\n",
    "\n",
    "  ax = axarr[0]\n",
    "  ax.set_title('ELBO')\n",
    "  ax.plot(train_loss, label = \"ELBO_train_loss\")\n",
    "  ax.plot(np.arange(0, len(train_loss),(len(train_loss)/len(val_loss))),val_loss, label = \"ELBO_val_loss\")\n",
    "\n",
    "  ax = axarr[1]\n",
    "  ax.set_title('KL')\n",
    "  ax.plot(train_kld, label = \"kld_train_loss\")\n",
    "  ax.plot(np.arange(0, len(train_kld),(len(train_kld)/len(val_kld))),val_kld, label = \"KL_val_loss\")\n",
    "\n",
    "  ax = axarr[2]\n",
    "  ax.set_title('NLL')\n",
    "  ax.plot(train_nll, label = \"NLL_train_loss\")\n",
    "  ax.plot(np.arange(0, len(train_nll),(len(train_nll)/len(val_nll))),val_nll, label = \"NLL_val_loss\")\n",
    "  plt.show()"
   ]
  },
  {
   "cell_type": "code",
   "execution_count": 15,
   "metadata": {
    "colab": {},
    "colab_type": "code",
    "id": "Ft_NEvb1TJMM"
   },
   "outputs": [],
   "source": [
    "def plot_samples(vae, plot_data):\n",
    "  f, axarr = plt.subplots(1,2, figsize=(15,5))\n",
    "  vae.eval()\n",
    "  z = torch.randn(10000, 2)\n",
    "  full_generation_path, without_decoder_noise = vae.sample(z)\n",
    "  full_generation_path = full_generation_path.data.numpy() \n",
    "  without_decoder_noise = without_decoder_noise.data.numpy()\n",
    "  mu, log_var, x_mu, x_log_var = vae.forward(plot_data.float())\n",
    "  z = vae.reparametrisation(x_mu, x_log_var).detach().numpy()\n",
    "\n",
    "  ax = axarr[0]\n",
    "  ax.scatter(plot_data[:,0].data.numpy(),plot_data[:,1].data.numpy())\n",
    "  ax.scatter(full_generation_path[:,0],full_generation_path[:,1])\n",
    "  ax.set_title('full_generation_path')\n",
    "  ax.axis('equal')\n",
    "\n",
    "  ax = axarr[1]\n",
    "  ax.scatter(plot_data[:,0].data.numpy(),plot_data[:,1].data.numpy())\n",
    "  ax.scatter(without_decoder_noise[:,0], without_decoder_noise[:,1])\n",
    "  ax.set_title('without_decoder_noise')\n",
    "  ax.axis('equal')\n",
    "\n",
    "  plt.show()"
   ]
  },
  {
   "cell_type": "code",
   "execution_count": 16,
   "metadata": {
    "colab": {},
    "colab_type": "code",
    "id": "A0c9n-B9BfoX"
   },
   "outputs": [],
   "source": [
    "learning_rate = lr=3e-4"
   ]
  },
  {
   "cell_type": "markdown",
   "metadata": {
    "colab_type": "text",
    "id": "NiD2YOUJC3Dn"
   },
   "source": [
    "### Sample 1 and no scalar"
   ]
  },
  {
   "cell_type": "code",
   "execution_count": 17,
   "metadata": {
    "colab": {
     "base_uri": "https://localhost:8080/",
     "height": 606
    },
    "colab_type": "code",
    "id": "Dim5-DVMr1PW",
    "outputId": "c04b0c09-d9f3-446e-a5f2-d9cc6a2fc56f"
   },
   "outputs": [
    {
     "name": "stdout",
     "output_type": "stream",
     "text": [
      "--- epoch: 0 sec: 0.7515900135040283 ---\n",
      "loss: 7.705458164215088 val loss: 7.62788200378418 KLD: 1.1892660856246948 val KLD: 1.2715257406234741 NLL: 6.5161919593811035 val NNL: 6.356356143951416 \n",
      "\n",
      "--- epoch: 10 sec: 0.6743946075439453 ---\n",
      "loss: 3.184962749481201 val loss: 3.2296316623687744 KLD: 0.020184848457574844 val KLD: 0.021441195160150528 NLL: 3.164777994155884 val NNL: 3.208190441131592 \n",
      "\n",
      "--- epoch: 20 sec: 0.5566823482513428 ---\n",
      "loss: 3.218080997467041 val loss: 3.204793691635132 KLD: 0.0030974047258496284 val KLD: 0.002923354972153902 NLL: 3.2149837017059326 val NNL: 3.2018704414367676 \n",
      "\n",
      "--- epoch: 30 sec: 0.5717427730560303 ---\n",
      "loss: 3.2227044105529785 val loss: 3.236586332321167 KLD: 0.0007374148117378354 val KLD: 0.0007309229695238173 NLL: 3.2219669818878174 val NNL: 3.2358553409576416 \n",
      "\n",
      "--- epoch: 40 sec: 0.6001644134521484 ---\n",
      "loss: 3.21604323387146 val loss: 3.2271337509155273 KLD: 0.0003560508484952152 val KLD: 0.0003656724584288895 NLL: 3.2156872749328613 val NNL: 3.2267680168151855 \n",
      "\n"
     ]
    },
    {
     "data": {
      "image/png": "[encoded data removed]",
      "text/plain": [
       "<Figure size 1080x360 with 3 Axes>"
      ]
     },
     "metadata": {
      "needs_background": "light"
     },
     "output_type": "display_data"
    }
   ],
   "source": [
    "vae = VAE().to(device)\n",
    "optimizer = torch.optim.Adam(vae.parameters(),lr=learning_rate, weight_decay=0.0001)\n",
    "train_loss, train_kld, train_nll, val_loss, val_kld, val_nll = train_vae(vae, train_loader_1, test_loader_1)\n",
    "plot_loss(train_loss, val_loss, train_kld, val_kld, train_nll, val_nll)"
   ]
  },
  {
   "cell_type": "code",
   "execution_count": 18,
   "metadata": {
    "colab": {
     "base_uri": "https://localhost:8080/",
     "height": 336
    },
    "colab_type": "code",
    "id": "Lmyx7WBOgZV9",
    "outputId": "518619d6-88a7-4fe8-89e4-098738c4e2e4"
   },
   "outputs": [
    {
     "data": {
      "image/png": "[encoded data removed]",
      "text/plain": [
       "<Figure size 1080x360 with 2 Axes>"
      ]
     },
     "metadata": {
      "needs_background": "light"
     },
     "output_type": "display_data"
    }
   ],
   "source": [
    "plot_data = train_ds_1[0:10000]\n",
    "plot_samples(vae, plot_data)"
   ]
  },
  {
   "cell_type": "markdown",
   "metadata": {
    "colab_type": "text",
    "id": "WT2iZeZxDCcz"
   },
   "source": [
    "### Sample 1 and scalar"
   ]
  },
  {
   "cell_type": "code",
   "execution_count": null,
   "metadata": {
    "colab": {
     "base_uri": "https://localhost:8080/",
     "height": 606
    },
    "colab_type": "code",
    "id": "0eyK0vPABQWV",
    "outputId": "be09d602-2251-4c9e-bd99-043816f1f23c"
   },
   "outputs": [
    {
     "name": "stdout",
     "output_type": "stream",
     "text": [
      "--- epoch: 0 sec: 0.7097663879394531 ---\n",
      "loss: 9.186050415039062 val loss: 9.120832443237305 KLD: 0.6176256537437439 val KLD: 0.5992064476013184 NLL: 8.568425178527832 val NNL: 8.521626472473145 \n",
      "\n",
      "--- epoch: 10 sec: 0.6019711494445801 ---\n",
      "loss: 3.8617570400238037 val loss: 3.9334750175476074 KLD: 0.08587844669818878 val KLD: 0.08704367280006409 NLL: 3.775878667831421 val NNL: 3.846431255340576 \n",
      "\n",
      "--- epoch: 20 sec: 0.6039342880249023 ---\n",
      "loss: 3.8572139739990234 val loss: 3.891566514968872 KLD: 0.08298595249652863 val KLD: 0.08299796283245087 NLL: 3.774228096008301 val NNL: 3.8085684776306152 \n",
      "\n",
      "--- epoch: 30 sec: 0.5508291721343994 ---\n",
      "loss: 3.917685031890869 val loss: 3.9031577110290527 KLD: 0.08672413975000381 val KLD: 0.07968893647193909 NLL: 3.830960988998413 val NNL: 3.8234686851501465 \n",
      "\n",
      "--- epoch: 40 sec: 0.5536048412322998 ---\n",
      "loss: 3.907677173614502 val loss: 3.8582122325897217 KLD: 0.08430098742246628 val KLD: 0.07737890630960464 NLL: 3.823376178741455 val NNL: 3.7808332443237305 \n",
      "\n"
     ]
    },
    {
     "data": {
      "image/png": "[encoded data removed]",
      "text/plain": [
       "<Figure size 1080x360 with 3 Axes>"
      ]
     },
     "metadata": {
      "needs_background": "light"
     },
     "output_type": "display_data"
    }
   ],
   "source": [
    "vae = VAE(scalar=True).to(device)\n",
    "optimizer = torch.optim.Adam(vae.parameters(),lr=learning_rate, weight_decay=0.0001)\n",
    "train_loss, train_kld, train_nll, val_loss, val_kld, val_nll = train_vae(vae, train_loader_1, test_loader_1)\n",
    "plot_loss(train_loss, val_loss, train_kld, val_kld, train_nll, val_nll)"
   ]
  },
  {
   "cell_type": "code",
   "execution_count": null,
   "metadata": {
    "colab": {
     "base_uri": "https://localhost:8080/",
     "height": 336
    },
    "colab_type": "code",
    "id": "BLYDyuE5BQfQ",
    "outputId": "635c2c38-3386-4c2d-cef0-aa7fcc3a9437"
   },
   "outputs": [
    {
     "data": {
      "image/png": "[encoded data removed]",
      "text/plain": [
       "<Figure size 1080x360 with 2 Axes>"
      ]
     },
     "metadata": {
      "needs_background": "light"
     },
     "output_type": "display_data"
    }
   ],
   "source": [
    "plot_data = train_ds_1[0:10000]\n",
    "plot_samples(vae, plot_data)"
   ]
  },
  {
   "cell_type": "markdown",
   "metadata": {
    "colab_type": "text",
    "id": "6QK9pobmDF9J"
   },
   "source": [
    "### Sample 2 and no scalar"
   ]
  },
  {
   "cell_type": "code",
   "execution_count": null,
   "metadata": {
    "colab": {
     "base_uri": "https://localhost:8080/",
     "height": 606
    },
    "colab_type": "code",
    "id": "QMIFsVYvset_",
    "outputId": "1d2eba1c-2ac9-4be8-e4b6-f4f83be05b38"
   },
   "outputs": [
    {
     "name": "stdout",
     "output_type": "stream",
     "text": [
      "--- epoch: 0 sec: 0.6824467182159424 ---\n",
      "loss: 6.377274036407471 val loss: 6.386268138885498 KLD: 0.570999801158905 val KLD: 0.548531174659729 NLL: 5.8062744140625 val NNL: 5.837737083435059 \n",
      "\n",
      "--- epoch: 10 sec: 0.5544605255126953 ---\n",
      "loss: 3.895843505859375 val loss: 3.941801071166992 KLD: 0.11402276158332825 val KLD: 0.12232456356287003 NLL: 3.781820774078369 val NNL: 3.81947660446167 \n",
      "\n",
      "--- epoch: 20 sec: 0.5744850635528564 ---\n",
      "loss: 3.8632736206054688 val loss: 3.917365312576294 KLD: 0.07881174981594086 val KLD: 0.09600002318620682 NLL: 3.7844619750976562 val NNL: 3.8213653564453125 \n",
      "\n",
      "--- epoch: 30 sec: 0.549126148223877 ---\n",
      "loss: 3.9165103435516357 val loss: 3.892648220062256 KLD: 0.08264993131160736 val KLD: 0.08503307402133942 NLL: 3.833860397338867 val NNL: 3.807615041732788 \n",
      "\n",
      "--- epoch: 40 sec: 0.5658018589019775 ---\n",
      "loss: 3.826709508895874 val loss: 3.878127336502075 KLD: 0.11494265496730804 val KLD: 0.12194787710905075 NLL: 3.7117669582366943 val NNL: 3.7561795711517334 \n",
      "\n"
     ]
    },
    {
     "data": {
      "image/png": "[encoded data removed]",
      "text/plain": [
       "<Figure size 1080x360 with 3 Axes>"
      ]
     },
     "metadata": {
      "needs_background": "light"
     },
     "output_type": "display_data"
    }
   ],
   "source": [
    "vae = VAE().to(device)\n",
    "optimizer = torch.optim.Adam(vae.parameters(),lr=learning_rate, weight_decay=0.0001)\n",
    "train_loss, train_kld, train_nll, val_loss, val_kld, val_nll = train_vae(vae, train_loader_2, test_loader_2)\n",
    "plot_loss(train_loss, val_loss, train_kld, val_kld, train_nll, val_nll)"
   ]
  },
  {
   "cell_type": "code",
   "execution_count": null,
   "metadata": {
    "colab": {
     "base_uri": "https://localhost:8080/",
     "height": 336
    },
    "colab_type": "code",
    "id": "6iF2jbuugZiB",
    "outputId": "d23f1569-933d-4829-8f10-67cbec623cff"
   },
   "outputs": [
    {
     "data": {
      "image/png": "[encoded data removed]",
      "text/plain": [
       "<Figure size 1080x360 with 2 Axes>"
      ]
     },
     "metadata": {
      "needs_background": "light"
     },
     "output_type": "display_data"
    }
   ],
   "source": [
    "plot_data = train_ds_2[0:10000]\n",
    "plot_samples(vae, plot_data)"
   ]
  },
  {
   "cell_type": "markdown",
   "metadata": {
    "colab_type": "text",
    "id": "XAQrCknKDJXi"
   },
   "source": [
    "### Sample 2 and scalar"
   ]
  },
  {
   "cell_type": "code",
   "execution_count": null,
   "metadata": {
    "colab": {
     "base_uri": "https://localhost:8080/",
     "height": 606
    },
    "colab_type": "code",
    "id": "lwl1nGtTqqK2",
    "outputId": "864a723f-1426-439d-b070-1d6eb71a188c"
   },
   "outputs": [
    {
     "name": "stdout",
     "output_type": "stream",
     "text": [
      "--- epoch: 0 sec: 0.649444580078125 ---\n",
      "loss: 7.1960859298706055 val loss: 7.050418853759766 KLD: 1.55751633644104 val KLD: 1.4555102586746216 NLL: 5.638569355010986 val NNL: 5.594908714294434 \n",
      "\n",
      "--- epoch: 10 sec: 0.5462808609008789 ---\n",
      "loss: 3.8458359241485596 val loss: 3.9258010387420654 KLD: 0.11373605579137802 val KLD: 0.11857987940311432 NLL: 3.732099771499634 val NNL: 3.8072211742401123 \n",
      "\n",
      "--- epoch: 20 sec: 0.6345400810241699 ---\n",
      "loss: 3.8551700115203857 val loss: 3.8235793113708496 KLD: 0.08426473289728165 val KLD: 0.07520121335983276 NLL: 3.7709052562713623 val NNL: 3.748378038406372 \n",
      "\n"
     ]
    }
   ],
   "source": [
    "vae = VAE(scalar=True).to(device)\n",
    "optimizer = torch.optim.Adam(vae.parameters(),lr=learning_rate, weight_decay=0.0001)\n",
    "train_loss, train_kld, train_nll, val_loss, val_kld, val_nll = train_vae(vae, train_loader_2, test_loader_2)\n",
    "plot_loss(train_loss, val_loss, train_kld, val_kld, train_nll, val_nll)"
   ]
  },
  {
   "cell_type": "code",
   "execution_count": null,
   "metadata": {
    "colab": {
     "base_uri": "https://localhost:8080/",
     "height": 336
    },
    "colab_type": "code",
    "id": "K3OdOeDDPYY3",
    "outputId": "51885824-5e6d-454e-a9e7-7786d71df061"
   },
   "outputs": [],
   "source": [
    "plot_data = train_ds_2[0:10000]\n",
    "plot_samples(vae, plot_data)"
   ]
  },
  {
   "cell_type": "markdown",
   "metadata": {
    "colab_type": "text",
    "id": "z12-u55fGODQ"
   },
   "source": [
    "# Part B\n",
    "\n",
    "### Train a VAE with a 2-dimensional z ∼ p(z) = N(z : 0, I) and a Gaussian encoder and decoder (with diagonal covariance matrices).\n",
    "## Provide these deliverables:\n",
    "- Loss curves and final loss, in bits per dimension. Include separate curves and numbers\n",
    "for the full ELBO, the KL term, and the decoder term; do so on the train and\n",
    "validation sets. What is the\n",
    "final test set performance (all three numbers)?\n",
    "- Display samples.\n",
    "- Display latents for data. To do so, take labeled training data (x, y) and plot z ∼\n",
    "q(z|x) , colored by the label y. Comment on the appearance of the latent spaces for\n",
    "the two models.\n",
    "- Pick the first 100 points in the test set. Evaluate and report the IWAE objective\n",
    "using 100 samples, and compare to the standard ELBO (i.e. IWAE with 1 sample)."
   ]
  },
  {
   "cell_type": "code",
   "execution_count": null,
   "metadata": {
    "colab": {},
    "colab_type": "code",
    "id": "DHjiN9KTGbjI"
   },
   "outputs": [],
   "source": [
    "def sample_data_3():\n",
    "  count = 100000\n",
    "  rand = np.random.RandomState(0)\n",
    "  a = [[-1.5, 2.5]] + rand.randn(count // 3, 2) * 0.2\n",
    "  b = [[1.5, 2.5]] + rand.randn(count // 3, 2) * 0.2\n",
    "  c = np.c_[2 * np.cos(np.linspace(0, np.pi, count // 3)),\n",
    "  -np.sin(np.linspace(0, np.pi, count // 3))]\n",
    "  c += rand.randn(*c.shape) * 0.2\n",
    "  data_x = np.concatenate([a, b, c], axis=0)\n",
    "  data_y = np.array([0] * len(a) + [1] * len(b) + [2] * len(c))\n",
    "  perm = rand.permutation(len(data_x))\n",
    "  return data_x[perm], data_y[perm]"
   ]
  },
  {
   "cell_type": "code",
   "execution_count": null,
   "metadata": {
    "colab": {
     "base_uri": "https://localhost:8080/",
     "height": 35
    },
    "colab_type": "code",
    "id": "rj1EuJpoIjz8",
    "outputId": "bb87cbca-56ee-41c0-8dcb-42ba7261c4bc"
   },
   "outputs": [],
   "source": [
    "data_3, c_data_3 =  sample_data_3()\n",
    "print(\"Smaple data 3:\", data_3.shape, \"y:\", c_data_3.shape)"
   ]
  },
  {
   "cell_type": "code",
   "execution_count": null,
   "metadata": {
    "colab": {
     "base_uri": "https://localhost:8080/",
     "height": 281
    },
    "colab_type": "code",
    "id": "7ugraf7uGbms",
    "outputId": "ba89f47e-a043-41f9-be3f-22cf9a84f159"
   },
   "outputs": [],
   "source": [
    "plt.scatter(data_3[:,0], data_3[:,1], c=c_data_3)\n",
    "plt.title(\"Datasample 3\")\n",
    "plt.show()"
   ]
  },
  {
   "cell_type": "code",
   "execution_count": null,
   "metadata": {
    "colab": {},
    "colab_type": "code",
    "id": "-1LRW5o0K8e8"
   },
   "outputs": [],
   "source": [
    "data_3_train = data_3[:80000]\n",
    "data_3_test = data_3[80000:]"
   ]
  },
  {
   "cell_type": "code",
   "execution_count": null,
   "metadata": {
    "colab": {},
    "colab_type": "code",
    "id": "HLs0nnlqLTLB"
   },
   "outputs": [],
   "source": [
    "train_ds_3 = MyDataset(data_3_train)\n",
    "test_ds_3 = MyDataset(data_3_test)\n",
    "train_loader_3 = torch.utils.data.DataLoader(train_ds_3, batch_size=BATCHSIZE, shuffle=True)\n",
    "test_loader_3 = torch.utils.data.DataLoader(test_ds_3, batch_size=BATCHSIZE,shuffle=True)"
   ]
  },
  {
   "cell_type": "code",
   "execution_count": null,
   "metadata": {
    "colab": {},
    "colab_type": "code",
    "id": "YcQBEZBmW3mi"
   },
   "outputs": [],
   "source": [
    "class VAE(nn.Module):\n",
    "  def __init__(self, num_samples=1, scalar=False, latent_variables=2): \n",
    "    super(VAE,self).__init__()\n",
    "    \n",
    "    self.latent_variables = latent_variables\n",
    "    self.num_samples = num_samples\n",
    "    self.scalar = scalar\n",
    "\n",
    "    self.out_features = latent_variables + 1 if scalar else 2 * latent_variables\n",
    "\n",
    "    self.encoder = nn.Sequential(\n",
    "        nn.Linear(in_features=latent_variables, out_features=32),\n",
    "        nn.ReLU(),\n",
    "        nn.Linear(in_features=32, out_features=32),\n",
    "        nn.ReLU(),\n",
    "        nn.Linear(in_features=32, out_features=(self.latent_variables*2))\n",
    "    )\n",
    "        \n",
    "    self.decoder = nn.Sequential(\n",
    "        nn.Linear(in_features=self.latent_variables, out_features=32),\n",
    "        nn.ReLU(),\n",
    "        nn.Linear(in_features=32, out_features=32),\n",
    "        nn.ReLU(),\n",
    "        nn.Linear(in_features=32, out_features=self.out_features)\n",
    "    )\n",
    "\n",
    "  def reparametrisation(self, mu, log_var, num_samples):\n",
    "\n",
    "    with torch.no_grad():\n",
    "      batch_size = mu.size(0)\n",
    "      epsilon = torch.randn(batch_size, num_samples, self.latent_variables)\n",
    "\n",
    "    sigma = torch.exp(0.5*log_var)\n",
    "        \n",
    "    if len(mu.shape) < 3:\n",
    "      z = mu.unsqueeze(1) + epsilon * sigma.unsqueeze(1)  \n",
    "    else:\n",
    "      z = mu + epsilon * sigma  \n",
    "    return z\n",
    "  \n",
    "  def sample(self, z):\n",
    "    if len(z.shape) < 3:\n",
    "      z = z.unsqueeze(1)\n",
    "    \n",
    "    x_sample = self.decoder(z)\n",
    "    x_mu, x_log_var = torch.chunk(x_sample, 2, dim=-1)\n",
    "    without_decoder_noise = x_mu\n",
    "    full_generation_path = self.reparametrisation(x_mu, x_log_var, 1)\n",
    "    return full_generation_path, without_decoder_noise\n",
    "\n",
    "  def log_normal(self, x, mean, log_var, eps=1e-5):\n",
    "    c = - 0.5 * np.log(2*np.pi)\n",
    "    return c - log_var/2 - (x - mean)**2 / (2 * torch.exp(log_var) + eps)\n",
    "\n",
    "  def loss(self, x, mu, log_var, x_mu, x_log_var):\n",
    "    # print(\"x:\", x.shape, \"mu:\", mu.shape, \"log_var:\", log_var.shape, \"x_mu:\", x_mu.shape, \"x_log_var:\", x_log_var.shape)\n",
    "    x = x.unsqueeze(1)\n",
    "\n",
    "    likelihood = torch.mean(torch.sum(-self.log_normal(x, x_mu, x_log_var), dim=2), dim=1)\n",
    "  \n",
    "    KLD = torch.mean(-0.5 * torch.sum(1 + log_var - mu**2 - torch.exp(log_var), dim=1))\n",
    "    \n",
    "    NLL = torch.mean(likelihood)/np.log(2)/2\n",
    "    \n",
    "    ELBO = NLL + KLD    \n",
    "\n",
    "    return ELBO, KLD, NLL\n",
    "\n",
    "  def forward(self, x):\n",
    "    mu, log_var = torch.chunk(self.encoder(x), 2, dim=-1)\n",
    "    mu = mu.unsqueeze(1)\n",
    "    log_var = log_var.unsqueeze(1)\n",
    "\n",
    "    z = self.reparametrisation(mu, log_var, self.num_samples)\n",
    "\n",
    "    x_sample = self.decoder(z)\n",
    "\n",
    "    if self.scalar:\n",
    "      x_mu, x_log_var = torch.chunk(x_sample, 2, dim=-1)\n",
    "      x_log_var = torch.ones_like(x_mu) * x_log_var\n",
    "    \n",
    "    else:\n",
    "      x_mu, x_log_var = torch.chunk(x_sample, 2, dim=-1)\n",
    "\n",
    "    return mu, log_var, x_mu, x_log_var"
   ]
  },
  {
   "cell_type": "code",
   "execution_count": null,
   "metadata": {
    "colab": {},
    "colab_type": "code",
    "id": "NRYXIndZlaCa"
   },
   "outputs": [],
   "source": [
    "def train_vae(vae, train_loader, test_loader, epochs=50):\n",
    "  EPOCH = epochs\n",
    "  train_loss = []\n",
    "  train_kld = []\n",
    "  train_nll = []\n",
    "\n",
    "  val_loss = []\n",
    "  val_kld = []\n",
    "  val_nll = []\n",
    "\n",
    "  val_loss_100 = []\n",
    "  val_kld_100 = []\n",
    "  val_nll_100 = []\n",
    "\n",
    "  j = 0\n",
    "  for epoch in range(EPOCH):\n",
    "    vae.train()\n",
    "    start_time = time.time()\n",
    "    for i, x in enumerate(train_loader, 0):\n",
    "      x = x.to(device).float()\n",
    "    \n",
    "      # zero the parameter gradients\n",
    "      optimizer.zero_grad()\n",
    "\n",
    "      # forward + backward + optimize\n",
    "      mu, log_var, x_mu, x_log_var = vae(x)\n",
    "\n",
    "      loss, kld, nll = vae.loss(x, mu, log_var, x_mu, x_log_var)\n",
    "\n",
    "      loss.backward()\n",
    "      optimizer.step()\n",
    "\n",
    "      train_loss.append(loss.item())\n",
    "      train_kld.append(kld.item())\n",
    "      train_nll.append(nll.item())\n",
    "\n",
    "    # print statistics\n",
    "    \n",
    "    with torch.set_grad_enabled(False):\n",
    "      vae.eval()\n",
    "      for val_batch in test_loader:\n",
    "        x_val = val_batch.to(device).float()\n",
    "        mu, log_var, x_mu, x_log_var =  vae(x_val)\n",
    "        v_loss, v_kld, v_nll = vae.loss(x_val, mu, log_var, x_mu, x_log_var)\n",
    "\n",
    "        val_loss.append(v_loss.item())\n",
    "        val_kld.append(v_kld.item())\n",
    "        val_nll.append(v_nll.item())\n",
    "    \n",
    "    with torch.set_grad_enabled(False):\n",
    "      vae.eval()\n",
    "      vae.num_samples = 100\n",
    "      \n",
    "      val_batch = next(iter(test_loader))\n",
    "      val_batch = val_batch.to(device)\n",
    "\n",
    "      x_val = val_batch.to(device).float()\n",
    "      mu, log_var, x_mu, x_log_var =  vae(x_val)\n",
    "      v_loss, v_kld, v_nll = vae.loss(x_val, mu, log_var, x_mu, x_log_var)\n",
    "\n",
    "      val_loss_100.append(v_loss.item())\n",
    "      val_kld_100.append(v_kld.item())\n",
    "      val_nll_100.append(v_nll.item())\n",
    "    \n",
    "    if (epoch % 10 == 0):\n",
    "      sec = (time.time() - start_time)\n",
    "      print(\"--- epoch:\", epoch, \"sec:\", sec, \"---\")\n",
    "      print(\"loss:\", loss.item(), \"val loss:\", v_loss.item(), \n",
    "            \"KLD:\", kld.item(), \"val KLD:\", v_kld.item(),\n",
    "            \"NLL:\", nll.item(), \"val NNL:\", v_nll.item(), \"\\n\")\n",
    "  return train_loss, train_kld, train_nll, val_loss, val_kld, val_nll, val_loss_100, val_kld_100, val_nll_100"
   ]
  },
  {
   "cell_type": "code",
   "execution_count": null,
   "metadata": {
    "colab": {
     "base_uri": "https://localhost:8080/",
     "height": 71
    },
    "colab_type": "code",
    "id": "zSp3cxMALbB2",
    "outputId": "086fd475-e387-41be-f662-c9108f2f99c4"
   },
   "outputs": [],
   "source": [
    "vae = VAE(scalar=False).to(device)\n",
    "optimizer = torch.optim.Adam(vae.parameters(),lr=learning_rate, weight_decay=0.0001)\n",
    "train_loss, train_kld, train_nll, val_loss, val_kld, val_nll, val_loss_100, val_kld_100, val_nll_100 = train_vae(vae, train_loader_3, test_loader_3, epochs=50)\n",
    "plot_loss(train_loss, val_loss, train_kld, val_kld, train_nll, val_nll)"
   ]
  },
  {
   "cell_type": "code",
   "execution_count": null,
   "metadata": {
    "colab": {},
    "colab_type": "code",
    "id": "NlpxajO-s81D"
   },
   "outputs": [],
   "source": [
    "plt.title('ELBO 100Samples')\n",
    "plt.plot(train_loss, label = \"ELBO_train_loss\")\n",
    "plt.plot(np.arange(0, len(train_loss),(len(train_loss)/len(val_loss))),val_loss, label = \"ELBO_val_loss\")\n",
    "plt.plot(np.arange(0, len(train_loss),(len(train_loss)/len(val_loss_100))),val_loss_100, label = \"ELBO_val_loss_100\")\n",
    "plt.show()"
   ]
  },
  {
   "cell_type": "code",
   "execution_count": null,
   "metadata": {
    "colab": {},
    "colab_type": "code",
    "id": "0BKXCis7RLwl"
   },
   "outputs": [],
   "source": [
    "def plot_samples_3(plot_data, c_plot_data):\n",
    "  f, axarr = plt.subplots(1,2, figsize=(15,5))\n",
    "  vae.eval()\n",
    "  z = torch.randn(10000, 2)\n",
    "  full_generation_path, without_decoder_noise = vae.sample(z)\n",
    "  full_generation_path = full_generation_path.data.numpy() \n",
    "  without_decoder_noise = without_decoder_noise.data.numpy()\n",
    "  mu, log_var, x_mu, x_log_var = vae.forward(plot_data.float())\n",
    "  x_rec = vae.reparametrisation(x_mu, x_log_var, 1).detach().numpy()\n",
    "\n",
    "  full_generation_path = full_generation_path.squeeze(1)\n",
    "  without_decoder_noise = without_decoder_noise.squeeze(1)\n",
    "\n",
    "  ax = axarr[0]\n",
    "  ax.scatter(plot_data[:,0].data.numpy(),plot_data[:,1].data.numpy())\n",
    "  ax.scatter(full_generation_path[:,0],full_generation_path[:,1],c=c_plot_data)\n",
    "  ax.set_title('full_generation_path')\n",
    "  ax.axis('equal')\n",
    "\n",
    "  ax = axarr[1]\n",
    "  ax.scatter(plot_data[:,0].data.numpy(),plot_data[:,1].data.numpy())\n",
    "  ax.scatter(without_decoder_noise[:,0], without_decoder_noise[:,1], c=c_plot_data)\n",
    "  ax.set_title('without_decoder_noise')\n",
    "  ax.axis('equal')\n",
    "  plt.show()"
   ]
  },
  {
   "cell_type": "code",
   "execution_count": null,
   "metadata": {
    "colab": {},
    "colab_type": "code",
    "id": "gNl9KSwPLbnu"
   },
   "outputs": [],
   "source": [
    "plot_data = train_ds_3[0:10000]\n",
    "c_plot_data = c_data_3[0:10000]\n",
    "plot_samples_3(plot_data, c_plot_data)"
   ]
  }
 ],
 "metadata": {
  "colab": {
   "collapsed_sections": [],
   "name": "exercise04",
   "provenance": []
  },
  "kernelspec": {
   "display_name": "Python 3",
   "language": "python",
   "name": "python3"
  },
  "language_info": {
   "codemirror_mode": {
    "name": "ipython",
    "version": 3
   },
   "file_extension": ".py",
   "mimetype": "text/x-python",
   "name": "python",
   "nbconvert_exporter": "python",
   "pygments_lexer": "ipython3",
   "version": "3.6.8"
  }
 },
 "nbformat": 4,
 "nbformat_minor": 1
}
