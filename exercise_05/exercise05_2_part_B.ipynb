{
  "nbformat": 4,
  "nbformat_minor": 0,
  "metadata": {
    "colab": {
      "name": "exercise05_2_part_B",
      "provenance": []
    },
    "kernelspec": {
      "name": "python3",
      "display_name": "Python 3"
    }
  },
  "cells": [
    {
      "cell_type": "code",
      "metadata": {
        "id": "b8Fl0QrSFy4Q",
        "colab_type": "code",
        "colab": {}
      },
      "source": [
        "import numpy as np\n",
        "import torch\n",
        "import pickle\n",
        "from torchvision import datasets, transforms\n",
        "import torchvision.utils as vutils\n",
        "import torch.nn as nn\n",
        "import torch.nn.functional as F\n",
        "from torch.distributions.normal import Normal\n",
        "import time\n",
        "import torch.optim as optim\n",
        "\n",
        "import matplotlib.pyplot  as plt\n",
        "import matplotlib.animation as animation\n",
        "%matplotlib inline\n",
        "\n",
        "from IPython.display import HTML"
      ],
      "execution_count": 0,
      "outputs": []
    },
    {
      "cell_type": "code",
      "metadata": {
        "id": "XuszfurjHe9P",
        "colab_type": "code",
        "colab": {}
      },
      "source": [
        "batch_size = 1000\n",
        "\n",
        "# cpu or gpu\n",
        "device = torch.device(\"cuda:0\" if torch.cuda.is_available() else \"cpu\")\n",
        "\n",
        "# Number Gpus\n",
        "ngpu = 1\n",
        "\n",
        "# Size of z latent vector (i.e. size of generator input)\n",
        "nz = 20\n",
        "\n",
        "# output size\n",
        "n_out = 2\n",
        "\n",
        "# Number of training epochs\n",
        "EPOCHS = 3\n",
        "\n",
        "# Learning rate for optimizers\n",
        "lr = 0.0002\n",
        "\n",
        "# Beta1 hyperparam for Adam optimizers\n",
        "beta1 = 0.5"
      ],
      "execution_count": 0,
      "outputs": []
    },
    {
      "cell_type": "code",
      "metadata": {
        "id": "Jw1BKdIiF7fD",
        "colab_type": "code",
        "colab": {}
      },
      "source": [
        "def sample_data():\n",
        "  count = 100000\n",
        "  rand = np.random.RandomState(0)\n",
        "  a1 = [[0, 3]] + rand.randn(count // 3, 2) * 0.2\n",
        "  a2 = [[0, -3]] + rand.randn(count // 3, 2) * 0.2\n",
        "  a3 = [[3, 0]] + rand.randn(count // 3, 2) * 0.2\n",
        "  a4 = [[-3, 0]] + rand.randn(count // 3, 2) * 0.2\n",
        "  a5 = [[-2, 2.23]] + rand.randn(count // 3, 2) * 0.2\n",
        "  a6 = [[2.23, -2]] + rand.randn(count // 3, 2) * 0.2\n",
        "  a7 = [[-2.23, -2]] + rand.randn(count // 3, 2) * 0.2\n",
        "  a8 = [[2, 2.23]] + rand.randn(count // 3, 2) * 0.2\n",
        "  data_x = np.concatenate([a1, a2, a3, a4, a5, a6, a7, a8], axis=0)\n",
        "  perm = rand.permutation(len(data_x))\n",
        "  return data_x[perm]"
      ],
      "execution_count": 0,
      "outputs": []
    },
    {
      "cell_type": "code",
      "metadata": {
        "id": "8pWvZ9OzGAOP",
        "colab_type": "code",
        "colab": {
          "base_uri": "https://localhost:8080/",
          "height": 53
        },
        "outputId": "792395d7-359e-47ac-da8e-7fba1a8fcfcc"
      },
      "source": [
        "data = sample_data()\n",
        "\n",
        "print(\"data shape:\",data.shape)\n",
        "print(\"data example:\", data[0])"
      ],
      "execution_count": 4,
      "outputs": [
        {
          "output_type": "stream",
          "text": [
            "data shape: (266664, 2)\n",
            "data example: [2.08119468 2.38366341]\n"
          ],
          "name": "stdout"
        }
      ]
    },
    {
      "cell_type": "code",
      "metadata": {
        "id": "vBsFUAD2GHA_",
        "colab_type": "code",
        "colab": {
          "base_uri": "https://localhost:8080/",
          "height": 281
        },
        "outputId": "92152b43-4c8c-4d41-a689-666379d25fef"
      },
      "source": [
        "plt.scatter(data[:,0], data[:,1])\n",
        "plt.title(\"Datasample\")\n",
        "plt.show()"
      ],
      "execution_count": 5,
      "outputs": [
        {
          "output_type": "display_data",
          "data": {
            "image/png": "[encoded data removed]",
            "text/plain": [
              "<Figure size 432x288 with 1 Axes>"
            ]
          },
          "metadata": {
            "tags": []
          }
        }
      ]
    },
    {
      "cell_type": "code",
      "metadata": {
        "id": "oi3xcLHNG_Xu",
        "colab_type": "code",
        "colab": {}
      },
      "source": [
        "class MyDataset(torch.utils.data.Dataset):\n",
        "  def __init__(self, x, transform=None):\n",
        "    self.x = torch.from_numpy(x).float()\n",
        "    self.transform = transform\n",
        "      \n",
        "  def __getitem__(self, index):\n",
        "    x = self.x[index]\n",
        "    \n",
        "    if self.transform:\n",
        "      x = self.transform(y)\n",
        "    return x\n",
        "  \n",
        "  def __len__(self):\n",
        "    return len(self.x)"
      ],
      "execution_count": 0,
      "outputs": []
    },
    {
      "cell_type": "code",
      "metadata": {
        "id": "4efPd4CdG_ax",
        "colab_type": "code",
        "colab": {
          "base_uri": "https://localhost:8080/",
          "height": 35
        },
        "outputId": "49eeca14-d474-4742-f5de-01c95162d9fe"
      },
      "source": [
        "train_ds = MyDataset(data[:260000])\n",
        "len(train_ds)"
      ],
      "execution_count": 7,
      "outputs": [
        {
          "output_type": "execute_result",
          "data": {
            "text/plain": [
              "260000"
            ]
          },
          "metadata": {
            "tags": []
          },
          "execution_count": 7
        }
      ]
    },
    {
      "cell_type": "code",
      "metadata": {
        "id": "uGCFqBmaG_eA",
        "colab_type": "code",
        "colab": {}
      },
      "source": [
        "trainloader = torch.utils.data.DataLoader(train_ds, batch_size=batch_size, shuffle=True)"
      ],
      "execution_count": 0,
      "outputs": []
    },
    {
      "cell_type": "code",
      "metadata": {
        "id": "KVWMFtS-G_hG",
        "colab_type": "code",
        "colab": {}
      },
      "source": [
        "# Generator Code\n",
        "\n",
        "class Generator(nn.Module):\n",
        "  def __init__(self, ngpu):\n",
        "    super(Generator, self).__init__()\n",
        "    self.ngpu = ngpu\n",
        "    self.main = nn.Sequential(\n",
        "        # input is Z, going into a convolution\n",
        "        nn.Linear(nz, 1024),\n",
        "        nn.ReLU(True),\n",
        "\n",
        "        nn.Linear(1024, 512),\n",
        "        nn.ReLU(True),\n",
        "\n",
        "        nn.Linear(512, 256),\n",
        "        nn.ReLU(True),\n",
        "      \n",
        "        nn.Linear(256, n_out),\n",
        "        nn.Tanh()\n",
        "    )\n",
        "\n",
        "  def forward(self, input):\n",
        "    out = self.main(input)\n",
        "    # print(\"Ge out:\", out.shape)\n",
        "    return out"
      ],
      "execution_count": 0,
      "outputs": []
    },
    {
      "cell_type": "code",
      "metadata": {
        "id": "LGhaOOndHinK",
        "colab_type": "code",
        "colab": {
          "base_uri": "https://localhost:8080/",
          "height": 233
        },
        "outputId": "1582cd13-a64f-4788-8450-07823f3569f4"
      },
      "source": [
        "# Create the generator\n",
        "netG = Generator(ngpu).to(device)\n",
        "\n",
        "# Handle multi-gpu if desired\n",
        "if (device.type == 'cuda') and (ngpu > 1):\n",
        "    netG = nn.DataParallel(netG, list(range(ngpu)))\n",
        "\n",
        "# Print the model\n",
        "print(netG)"
      ],
      "execution_count": 10,
      "outputs": [
        {
          "output_type": "stream",
          "text": [
            "Generator(\n",
            "  (main): Sequential(\n",
            "    (0): Linear(in_features=20, out_features=1024, bias=True)\n",
            "    (1): ReLU(inplace=True)\n",
            "    (2): Linear(in_features=1024, out_features=512, bias=True)\n",
            "    (3): ReLU(inplace=True)\n",
            "    (4): Linear(in_features=512, out_features=256, bias=True)\n",
            "    (5): ReLU(inplace=True)\n",
            "    (6): Linear(in_features=256, out_features=2, bias=True)\n",
            "    (7): Tanh()\n",
            "  )\n",
            ")\n"
          ],
          "name": "stdout"
        }
      ]
    },
    {
      "cell_type": "code",
      "metadata": {
        "id": "mxIncus4HiqR",
        "colab_type": "code",
        "colab": {}
      },
      "source": [
        "class Discriminator(nn.Module):\n",
        "  def __init__(self, ngpu):\n",
        "    super(Discriminator, self).__init__()\n",
        "    self.ngpu = ngpu\n",
        "    self.main = nn.Sequential(\n",
        "        # input is Z, going into a convolution\n",
        "        nn.Linear(n_out, 1024),\n",
        "        nn.ReLU(True),\n",
        "\n",
        "        nn.Linear(1024, 512),\n",
        "        nn.ReLU(True),\n",
        "\n",
        "        nn.Linear(512, 256),\n",
        "        nn.ReLU(True),\n",
        "      \n",
        "        nn.Linear(256, 1),\n",
        "        nn.Sigmoid()\n",
        "    )\n",
        "\n",
        "  def forward(self, input):\n",
        "    out = self.main(input)\n",
        "    # print(\"Ge out:\", out.shape)\n",
        "    return out"
      ],
      "execution_count": 0,
      "outputs": []
    },
    {
      "cell_type": "code",
      "metadata": {
        "id": "lGpgoO3aHitd",
        "colab_type": "code",
        "colab": {
          "base_uri": "https://localhost:8080/",
          "height": 233
        },
        "outputId": "1e7a9c4c-ad4f-4fec-867a-7259356db69b"
      },
      "source": [
        "# Create the Discriminator\n",
        "netD = Discriminator(ngpu).to(device)\n",
        "\n",
        "# Handle multi-gpu if desired\n",
        "if (device.type == 'cuda') and (ngpu > 1):\n",
        "    netD = nn.DataParallel(netD, list(range(ngpu)))\n",
        "    \n",
        "\n",
        "# Print the model\n",
        "print(netD)"
      ],
      "execution_count": 12,
      "outputs": [
        {
          "output_type": "stream",
          "text": [
            "Discriminator(\n",
            "  (main): Sequential(\n",
            "    (0): Linear(in_features=2, out_features=1024, bias=True)\n",
            "    (1): ReLU(inplace=True)\n",
            "    (2): Linear(in_features=1024, out_features=512, bias=True)\n",
            "    (3): ReLU(inplace=True)\n",
            "    (4): Linear(in_features=512, out_features=256, bias=True)\n",
            "    (5): ReLU(inplace=True)\n",
            "    (6): Linear(in_features=256, out_features=1, bias=True)\n",
            "    (7): Sigmoid()\n",
            "  )\n",
            ")\n"
          ],
          "name": "stdout"
        }
      ]
    },
    {
      "cell_type": "code",
      "metadata": {
        "id": "Suuu-bGFHiwv",
        "colab_type": "code",
        "colab": {}
      },
      "source": [
        "# Initialize BCELoss function\n",
        "criterion = nn.BCELoss()\n",
        "\n",
        "# Create batch of latent vectors that we will use to visualize\n",
        "#  the progression of the generator\n",
        "fixed_noise = torch.randn(batch_size, nz, device=device)\n",
        "\n",
        "# Establish convention for real and fake labels during training\n",
        "real_label = 1\n",
        "fake_label = 0\n",
        "\n",
        "# Setup Adam optimizers for both G and D\n",
        "optimizerD = optim.Adam(netD.parameters(), lr=lr, betas=(beta1, 0.999))\n",
        "optimizerG = optim.Adam(netG.parameters(), lr=lr, betas=(beta1, 0.999))"
      ],
      "execution_count": 0,
      "outputs": []
    },
    {
      "cell_type": "code",
      "metadata": {
        "id": "6gMOtcT3KAWj",
        "colab_type": "code",
        "colab": {}
      },
      "source": [
        "def train_d_net_with_real(data, label):\n",
        "  '''\n",
        "  Update D network: maximize log(D(x)) + log(1 - D(G(z)))\n",
        "  '''\n",
        "  ## Train with all-real batch\n",
        "  netD.zero_grad()\n",
        "  # Format batch\n",
        "  real_cpu = data.to(device)\n",
        "\n",
        "  # Forward pass real batch through D\n",
        "  output = netD(real_cpu).view(-1)\n",
        "  # print(\"real_out:\", output.shape)\n",
        "  # Calculate loss on all-real batch\n",
        "  errD_real = criterion(output, label)\n",
        "  # Calculate gradients for D in backward pass\n",
        "  errD_real.backward()\n",
        "  D_x = output.mean().item()\n",
        "  return errD_real, D_x"
      ],
      "execution_count": 0,
      "outputs": []
    },
    {
      "cell_type": "code",
      "metadata": {
        "id": "Gik66nzNHi0I",
        "colab_type": "code",
        "colab": {}
      },
      "source": [
        "def train_d_net_with_fake(label, fake, errD_real):\n",
        "  '''\n",
        "  Train with all-fake batch\n",
        "  '''\n",
        "  \n",
        "  label.fill_(fake_label)\n",
        "  # Classify all fake batch with D\n",
        "  output = netD(fake.detach()).view(-1)\n",
        "  # Calculate D's loss on the all-fake batch\n",
        "  errD_fake = criterion(output, label)\n",
        "  # Calculate the gradients for this batch\n",
        "  errD_fake.backward()\n",
        "  D_G_z1 = output.mean().item()\n",
        "  # Add the gradients from the all-real and all-fake batches\n",
        "  errD = errD_real + errD_fake\n",
        "  # Update D\n",
        "  optimizerD.step()\n",
        "  return errD, D_G_z1"
      ],
      "execution_count": 0,
      "outputs": []
    },
    {
      "cell_type": "code",
      "metadata": {
        "id": "8lXnLR5_J8yi",
        "colab_type": "code",
        "colab": {}
      },
      "source": [
        "def train_g_net(data, label, fake):\n",
        "  '''\n",
        "  Update G network: maximize log(D(G(z)))\n",
        "  '''\n",
        "  netG.zero_grad()\n",
        "  label.fill_(real_label)  # fake labels are real for generator cost\n",
        "  # Since we just updated D, perform another forward pass of all-fake batch through D\n",
        "  output = netD(fake).view(-1)\n",
        "  # Calculate G's loss based on this output\n",
        "  errG = criterion(output, label)\n",
        "  # Calculate gradients for G\n",
        "  errG.backward()\n",
        "  D_G_z2 = output.mean().item()\n",
        "  # Update G\n",
        "  optimizerG.step()\n",
        "\n",
        "  return errG, D_G_z2"
      ],
      "execution_count": 0,
      "outputs": []
    },
    {
      "cell_type": "code",
      "metadata": {
        "id": "df2S3h9AJ81p",
        "colab_type": "code",
        "colab": {
          "base_uri": "https://localhost:8080/",
          "height": 215
        },
        "outputId": "8aabad8a-e910-417e-e308-58a873848d72"
      },
      "source": [
        "img_list = []\n",
        "G_losses = []\n",
        "D_losses = []\n",
        "iters = 0\n",
        "\n",
        "for epoch in range(EPOCHS):\n",
        "  netG.train()\n",
        "  netD.train()\n",
        "  for i, x in enumerate(trainloader, 0):\n",
        "    x = x.to(device).float()\n",
        "    \n",
        "    b_size = x.size(0)\n",
        "    label = torch.full((b_size,), real_label, device=device)\n",
        "\n",
        "    errD_real, D_x = train_d_net_with_real(x, label)\n",
        "\n",
        "    # Generate batch of latent vectors\n",
        "    noise = torch.randn(batch_size, nz, device=device)\n",
        "    # Generate fake image batch with G\n",
        "    fake = netG(noise)\n",
        "\n",
        "    errD, D_G_z1 = train_d_net_with_fake(label, fake, errD_real)\n",
        "\n",
        "    errG, D_G_z2 = train_g_net(x, label, fake)\n",
        "\n",
        "\n",
        "    # print stats\n",
        "    if i % 20 == 0:\n",
        "      print('[%d/%d][%d/%d]\\tLoss_D: %.4f\\tLoss_G: %.4f\\tD(x): %.4f\\tD(G(z)): %.4f / %.4f'\n",
        "                  % (epoch, EPOCHS, i, len(trainloader),\n",
        "                     errD.item(), errG.item(), D_x, D_G_z1, D_G_z2))\n",
        "\n",
        "    # Save Losses for plotting later\n",
        "    G_losses.append(errG.item())\n",
        "    D_losses.append(errD.item())\n",
        "\n",
        "    # Check how the generator is doing by saving G's output on fixed_noise\n",
        "    if (iters % 50 == 0) or ((epoch == EPOCHS-1) and (i == len(trainloader)-1)):\n",
        "      with torch.no_grad():\n",
        "        fake = netG(fixed_noise).detach().cpu()\n",
        "      img_list.append(fake)\n",
        "\n",
        "    iters += 1"
      ],
      "execution_count": 0,
      "outputs": [
        {
          "output_type": "stream",
          "text": [
            "[0/3][0/260]\tLoss_D: 1.3957\tLoss_G: 0.7242\tD(x): 0.4818\tD(G(z)): 0.4859 / 0.4847\n",
            "[0/3][20/260]\tLoss_D: 0.2602\tLoss_G: 1.9205\tD(x): 0.9372\tD(G(z)): 0.1694 / 0.1465\n",
            "[0/3][40/260]\tLoss_D: 0.0444\tLoss_G: 3.5374\tD(x): 0.9883\tD(G(z)): 0.0314 / 0.0291\n",
            "[0/3][60/260]\tLoss_D: 0.0143\tLoss_G: 4.5715\tD(x): 0.9968\tD(G(z)): 0.0110 / 0.0103\n",
            "[0/3][80/260]\tLoss_D: 0.0075\tLoss_G: 5.2177\tD(x): 0.9982\tD(G(z)): 0.0057 / 0.0054\n",
            "[0/3][100/260]\tLoss_D: 0.0046\tLoss_G: 5.7287\tD(x): 0.9988\tD(G(z)): 0.0033 / 0.0033\n",
            "[0/3][120/260]\tLoss_D: 0.0031\tLoss_G: 6.1431\tD(x): 0.9991\tD(G(z)): 0.0022 / 0.0021\n",
            "[0/3][140/260]\tLoss_D: 0.0021\tLoss_G: 6.5031\tD(x): 0.9995\tD(G(z)): 0.0015 / 0.0015\n",
            "[0/3][160/260]\tLoss_D: 0.0013\tLoss_G: 6.8345\tD(x): 0.9997\tD(G(z)): 0.0011 / 0.0011\n",
            "[0/3][180/260]\tLoss_D: 0.0011\tLoss_G: 7.0884\tD(x): 0.9998\tD(G(z)): 0.0009 / 0.0008\n",
            "[0/3][200/260]\tLoss_D: 0.0009\tLoss_G: 7.3242\tD(x): 0.9998\tD(G(z)): 0.0007 / 0.0007\n"
          ],
          "name": "stdout"
        }
      ]
    },
    {
      "cell_type": "code",
      "metadata": {
        "id": "9FNezWpqJ85D",
        "colab_type": "code",
        "colab": {}
      },
      "source": [
        "plt.figure(figsize=(10,5))\n",
        "plt.title(\"Generator and Discriminator Loss During Training\")\n",
        "plt.plot(G_losses,label=\"G\")\n",
        "plt.plot(D_losses,label=\"D\")\n",
        "plt.xlabel(\"iterations\")\n",
        "plt.ylabel(\"Loss\")\n",
        "plt.legend()\n",
        "plt.show()"
      ],
      "execution_count": 0,
      "outputs": []
    },
    {
      "cell_type": "code",
      "metadata": {
        "id": "VWM5Tv2lJ876",
        "colab_type": "code",
        "colab": {}
      },
      "source": [
        "#%%capture\n",
        "fig = plt.figure(figsize=(8,8))\n",
        "plt.axis(\"off\")\n",
        "ims = [[plt.scatter(i[:,0], i[:,1])] for i in img_list]\n",
        "ani = animation.ArtistAnimation(fig, ims, interval=1000, repeat_delay=1000, blit=True)\n",
        "HTML(ani.to_jshtml())"
      ],
      "execution_count": 0,
      "outputs": []
    },
    {
      "cell_type": "code",
      "metadata": {
        "id": "zCUxLZMDQ8Bn",
        "colab_type": "code",
        "colab": {}
      },
      "source": [
        "print(len(img_list))\n",
        "print(img_list[1].shape)\n",
        "print(img_list[1])"
      ],
      "execution_count": 0,
      "outputs": []
    },
    {
      "cell_type": "code",
      "metadata": {
        "id": "3efWmgZTQ0cM",
        "colab_type": "code",
        "colab": {}
      },
      "source": [
        ""
      ],
      "execution_count": 0,
      "outputs": []
    }
  ]
}